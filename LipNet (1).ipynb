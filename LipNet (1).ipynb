{
  "cells": [
    {
      "cell_type": "markdown",
      "id": "a3573a47-3689-4668-b62f-5c8451b2b4e9",
      "metadata": {
        "tags": [],
        "id": "a3573a47-3689-4668-b62f-5c8451b2b4e9"
      },
      "source": [
        "# 0. Install and Import Dependencies"
      ]
    },
    {
      "cell_type": "code",
      "execution_count": null,
      "id": "ddfbccbe-41ae-4c23-98b1-a13868e2b499",
      "metadata": {
        "scrolled": true,
        "tags": [],
        "colab": {
          "base_uri": "https://localhost:8080/"
        },
        "id": "ddfbccbe-41ae-4c23-98b1-a13868e2b499",
        "outputId": "053bc044-aba6-4290-e21f-5b3dd96ea76f"
      },
      "outputs": [
        {
          "output_type": "stream",
          "name": "stdout",
          "text": [
            "Package                          Version\n",
            "-------------------------------- ---------------------\n",
            "absl-py                          1.4.0\n",
            "aiohttp                          3.9.1\n",
            "aiosignal                        1.3.1\n",
            "alabaster                        0.7.13\n",
            "albumentations                   1.3.1\n",
            "altair                           4.2.2\n",
            "anyio                            3.7.1\n",
            "appdirs                          1.4.4\n",
            "argon2-cffi                      23.1.0\n",
            "argon2-cffi-bindings             21.2.0\n",
            "array-record                     0.5.0\n",
            "arviz                            0.15.1\n",
            "astropy                          5.3.4\n",
            "astunparse                       1.6.3\n",
            "async-timeout                    4.0.3\n",
            "atpublic                         4.0\n",
            "attrs                            23.1.0\n",
            "audioread                        3.0.1\n",
            "autograd                         1.6.2\n",
            "Babel                            2.14.0\n",
            "backcall                         0.2.0\n",
            "beautifulsoup4                   4.11.2\n",
            "bidict                           0.22.1\n",
            "bigframes                        0.17.0\n",
            "bleach                           6.1.0\n",
            "blinker                          1.4\n",
            "blis                             0.7.11\n",
            "blosc2                           2.0.0\n",
            "bokeh                            3.3.2\n",
            "bqplot                           0.12.42\n",
            "branca                           0.7.0\n",
            "build                            1.0.3\n",
            "CacheControl                     0.13.1\n",
            "cachetools                       5.3.2\n",
            "catalogue                        2.0.10\n",
            "certifi                          2023.11.17\n",
            "cffi                             1.16.0\n",
            "chardet                          5.2.0\n",
            "charset-normalizer               3.3.2\n",
            "chex                             0.1.7\n",
            "click                            8.1.7\n",
            "click-plugins                    1.1.1\n",
            "cligj                            0.7.2\n",
            "cloudpickle                      2.2.1\n",
            "cmake                            3.27.9\n",
            "cmdstanpy                        1.2.0\n",
            "colorcet                         3.0.1\n",
            "colorlover                       0.3.0\n",
            "colour                           0.1.5\n",
            "community                        1.0.0b1\n",
            "confection                       0.1.4\n",
            "cons                             0.4.6\n",
            "contextlib2                      21.6.0\n",
            "contourpy                        1.2.0\n",
            "cryptography                     41.0.7\n",
            "cufflinks                        0.17.3\n",
            "cupy-cuda12x                     12.2.0\n",
            "cvxopt                           1.3.2\n",
            "cvxpy                            1.3.2\n",
            "cycler                           0.12.1\n",
            "cymem                            2.0.8\n",
            "Cython                           3.0.6\n",
            "dask                             2023.8.1\n",
            "datascience                      0.17.6\n",
            "db-dtypes                        1.2.0\n",
            "dbus-python                      1.2.18\n",
            "debugpy                          1.6.6\n",
            "decorator                        4.4.2\n",
            "defusedxml                       0.7.1\n",
            "diskcache                        5.6.3\n",
            "distributed                      2023.8.1\n",
            "distro                           1.7.0\n",
            "dlib                             19.24.2\n",
            "dm-tree                          0.1.8\n",
            "docutils                         0.18.1\n",
            "dopamine-rl                      4.0.6\n",
            "duckdb                           0.9.2\n",
            "earthengine-api                  0.1.384\n",
            "easydict                         1.11\n",
            "ecos                             2.0.12\n",
            "editdistance                     0.6.2\n",
            "eerepr                           0.0.4\n",
            "en-core-web-sm                   3.6.0\n",
            "entrypoints                      0.4\n",
            "et-xmlfile                       1.1.0\n",
            "etils                            1.6.0\n",
            "etuples                          0.3.9\n",
            "exceptiongroup                   1.2.0\n",
            "fastai                           2.7.13\n",
            "fastcore                         1.5.29\n",
            "fastdownload                     0.0.7\n",
            "fastjsonschema                   2.19.0\n",
            "fastprogress                     1.0.3\n",
            "fastrlock                        0.8.2\n",
            "filelock                         3.13.1\n",
            "fiona                            1.9.5\n",
            "firebase-admin                   5.3.0\n",
            "Flask                            2.2.5\n",
            "flatbuffers                      23.5.26\n",
            "flax                             0.7.5\n",
            "folium                           0.14.0\n",
            "fonttools                        4.46.0\n",
            "frozendict                       2.3.10\n",
            "frozenlist                       1.4.1\n",
            "fsspec                           2023.6.0\n",
            "future                           0.18.3\n",
            "gast                             0.5.4\n",
            "gcsfs                            2023.6.0\n",
            "GDAL                             3.4.3\n",
            "gdown                            4.6.6\n",
            "geemap                           0.29.6\n",
            "gensim                           4.3.2\n",
            "geocoder                         1.38.1\n",
            "geographiclib                    2.0\n",
            "geopandas                        0.13.2\n",
            "geopy                            2.3.0\n",
            "gin-config                       0.5.0\n",
            "glob2                            0.7\n",
            "google                           2.0.3\n",
            "google-ai-generativelanguage     0.4.0\n",
            "google-api-core                  2.11.1\n",
            "google-api-python-client         2.84.0\n",
            "google-auth                      2.17.3\n",
            "google-auth-httplib2             0.1.1\n",
            "google-auth-oauthlib             1.2.0\n",
            "google-cloud-aiplatform          1.38.1\n",
            "google-cloud-bigquery            3.12.0\n",
            "google-cloud-bigquery-connection 1.12.1\n",
            "google-cloud-bigquery-storage    2.24.0\n",
            "google-cloud-core                2.3.3\n",
            "google-cloud-datastore           2.15.2\n",
            "google-cloud-firestore           2.11.1\n",
            "google-cloud-functions           1.13.3\n",
            "google-cloud-iam                 2.13.0\n",
            "google-cloud-language            2.9.1\n",
            "google-cloud-resource-manager    1.11.0\n",
            "google-cloud-storage             2.8.0\n",
            "google-cloud-translate           3.11.3\n",
            "google-colab                     1.0.0\n",
            "google-crc32c                    1.5.0\n",
            "google-generativeai              0.3.1\n",
            "google-pasta                     0.2.0\n",
            "google-resumable-media           2.7.0\n",
            "googleapis-common-protos         1.62.0\n",
            "googledrivedownloader            0.4\n",
            "graphviz                         0.20.1\n",
            "greenlet                         3.0.2\n",
            "grpc-google-iam-v1               0.13.0\n",
            "grpcio                           1.60.0\n",
            "grpcio-status                    1.48.2\n",
            "gspread                          3.4.2\n",
            "gspread-dataframe                3.3.1\n",
            "gym                              0.25.2\n",
            "gym-notices                      0.0.8\n",
            "h5netcdf                         1.3.0\n",
            "h5py                             3.9.0\n",
            "holidays                         0.38\n",
            "holoviews                        1.17.1\n",
            "html5lib                         1.1\n",
            "httpimport                       1.3.1\n",
            "httplib2                         0.22.0\n",
            "huggingface-hub                  0.19.4\n",
            "humanize                         4.7.0\n",
            "hyperopt                         0.2.7\n",
            "ibis-framework                   6.2.0\n",
            "idna                             3.6\n",
            "imageio                          2.31.6\n",
            "imageio-ffmpeg                   0.4.9\n",
            "imagesize                        1.4.1\n",
            "imbalanced-learn                 0.10.1\n",
            "imgaug                           0.4.0\n",
            "importlib-metadata               7.0.0\n",
            "importlib-resources              6.1.1\n",
            "imutils                          0.5.4\n",
            "inflect                          7.0.0\n",
            "iniconfig                        2.0.0\n",
            "install                          1.3.5\n",
            "intel-openmp                     2023.2.3\n",
            "ipyevents                        2.0.2\n",
            "ipyfilechooser                   0.6.0\n",
            "ipykernel                        5.5.6\n",
            "ipyleaflet                       0.18.1\n",
            "ipython                          7.34.0\n",
            "ipython-genutils                 0.2.0\n",
            "ipython-sql                      0.5.0\n",
            "ipytree                          0.2.2\n",
            "ipywidgets                       7.7.1\n",
            "itsdangerous                     2.1.2\n",
            "jax                              0.4.23\n",
            "jaxlib                           0.4.23+cuda12.cudnn89\n",
            "jeepney                          0.7.1\n",
            "jieba                            0.42.1\n",
            "Jinja2                           3.1.2\n",
            "joblib                           1.3.2\n",
            "jsonpickle                       3.0.2\n",
            "jsonschema                       4.19.2\n",
            "jsonschema-specifications        2023.11.2\n",
            "jupyter-client                   6.1.12\n",
            "jupyter-console                  6.1.0\n",
            "jupyter_core                     5.5.1\n",
            "jupyter-server                   1.24.0\n",
            "jupyterlab_pygments              0.3.0\n",
            "jupyterlab-widgets               3.0.9\n",
            "kaggle                           1.5.16\n",
            "kagglehub                        0.1.4\n",
            "keras                            2.15.0\n",
            "keyring                          23.5.0\n",
            "kiwisolver                       1.4.5\n",
            "langcodes                        3.3.0\n",
            "launchpadlib                     1.10.16\n",
            "lazr.restfulclient               0.14.4\n",
            "lazr.uri                         1.0.6\n",
            "lazy_loader                      0.3\n",
            "libclang                         16.0.6\n",
            "librosa                          0.10.1\n",
            "lida                             0.0.10\n",
            "lightgbm                         4.1.0\n",
            "linkify-it-py                    2.0.2\n",
            "llmx                             0.0.15a0\n",
            "llvmlite                         0.41.1\n",
            "locket                           1.0.0\n",
            "logical-unification              0.4.6\n",
            "lxml                             4.9.3\n",
            "malloy                           2023.1067\n",
            "Markdown                         3.5.1\n",
            "markdown-it-py                   3.0.0\n",
            "MarkupSafe                       2.1.3\n",
            "matplotlib                       3.7.1\n",
            "matplotlib-inline                0.1.6\n",
            "matplotlib-venn                  0.11.9\n",
            "mdit-py-plugins                  0.4.0\n",
            "mdurl                            0.1.2\n",
            "miniKanren                       1.0.3\n",
            "missingno                        0.5.2\n",
            "mistune                          0.8.4\n",
            "mizani                           0.9.3\n",
            "mkl                              2023.2.0\n",
            "ml-dtypes                        0.2.0\n",
            "mlxtend                          0.22.0\n",
            "more-itertools                   10.1.0\n",
            "moviepy                          1.0.3\n",
            "mpmath                           1.3.0\n",
            "msgpack                          1.0.7\n",
            "multidict                        6.0.4\n",
            "multipledispatch                 1.0.0\n",
            "multitasking                     0.0.11\n",
            "murmurhash                       1.0.10\n",
            "music21                          9.1.0\n",
            "natsort                          8.4.0\n",
            "nbclassic                        1.0.0\n",
            "nbclient                         0.9.0\n",
            "nbconvert                        6.5.4\n",
            "nbformat                         5.9.2\n",
            "nest-asyncio                     1.5.8\n",
            "networkx                         3.2.1\n",
            "nibabel                          4.0.2\n",
            "nltk                             3.8.1\n",
            "notebook                         6.5.5\n",
            "notebook_shim                    0.2.3\n",
            "numba                            0.58.1\n",
            "numexpr                          2.8.8\n",
            "numpy                            1.23.5\n",
            "oauth2client                     4.1.3\n",
            "oauthlib                         3.2.2\n",
            "opencv-contrib-python            4.8.0.76\n",
            "opencv-python                    4.8.0.76\n",
            "opencv-python-headless           4.8.1.78\n",
            "openpyxl                         3.1.2\n",
            "opt-einsum                       3.3.0\n",
            "optax                            0.1.7\n",
            "orbax-checkpoint                 0.4.4\n",
            "osqp                             0.6.2.post8\n",
            "packaging                        23.2\n",
            "pandas                           1.5.3\n",
            "pandas-datareader                0.10.0\n",
            "pandas-gbq                       0.19.2\n",
            "pandas-stubs                     1.5.3.230304\n",
            "pandocfilters                    1.5.0\n",
            "panel                            1.3.4\n",
            "param                            2.0.1\n",
            "parso                            0.8.3\n",
            "parsy                            2.1\n",
            "partd                            1.4.1\n",
            "pathlib                          1.0.1\n",
            "pathy                            0.10.3\n",
            "patsy                            0.5.4\n",
            "peewee                           3.17.0\n",
            "pexpect                          4.9.0\n",
            "pickleshare                      0.7.5\n",
            "Pillow                           9.4.0\n",
            "pip                              23.1.2\n",
            "pip-tools                        6.13.0\n",
            "platformdirs                     4.1.0\n",
            "plotly                           5.15.0\n",
            "plotnine                         0.12.4\n",
            "pluggy                           1.3.0\n",
            "polars                           0.17.3\n",
            "pooch                            1.8.0\n",
            "portpicker                       1.5.2\n",
            "prefetch-generator               1.0.3\n",
            "preshed                          3.0.9\n",
            "prettytable                      3.9.0\n",
            "proglog                          0.1.10\n",
            "progressbar2                     4.2.0\n",
            "prometheus-client                0.19.0\n",
            "promise                          2.3\n",
            "prompt-toolkit                   3.0.43\n",
            "prophet                          1.1.5\n",
            "proto-plus                       1.23.0\n",
            "protobuf                         3.20.3\n",
            "psutil                           5.9.5\n",
            "psycopg2                         2.9.9\n",
            "ptyprocess                       0.7.0\n",
            "py-cpuinfo                       9.0.0\n",
            "py4j                             0.10.9.7\n",
            "pyarrow                          10.0.1\n",
            "pyasn1                           0.5.1\n",
            "pyasn1-modules                   0.3.0\n",
            "pycocotools                      2.0.7\n",
            "pycparser                        2.21\n",
            "pyct                             0.5.0\n",
            "pydantic                         1.10.13\n",
            "pydata-google-auth               1.8.2\n",
            "pydot                            1.4.2\n",
            "pydot-ng                         2.0.0\n",
            "pydotplus                        2.0.2\n",
            "PyDrive                          1.3.1\n",
            "PyDrive2                         1.6.3\n",
            "pyerfa                           2.0.1.1\n",
            "pygame                           2.5.2\n",
            "Pygments                         2.16.1\n",
            "PyGObject                        3.42.1\n",
            "PyJWT                            2.3.0\n",
            "pymc                             5.7.2\n",
            "pymystem3                        0.2.0\n",
            "PyOpenGL                         3.1.7\n",
            "pyOpenSSL                        23.3.0\n",
            "pyparsing                        3.1.1\n",
            "pyperclip                        1.8.2\n",
            "pyproj                           3.6.1\n",
            "pyproject_hooks                  1.0.0\n",
            "pyshp                            2.3.1\n",
            "PySocks                          1.7.1\n",
            "pytensor                         2.14.2\n",
            "pytest                           7.4.3\n",
            "python-apt                       0.0.0\n",
            "python-box                       7.1.1\n",
            "python-dateutil                  2.8.2\n",
            "python-louvain                   0.16\n",
            "python-slugify                   8.0.1\n",
            "python-utils                     3.8.1\n",
            "pytz                             2023.3.post1\n",
            "pyviz_comms                      3.0.0\n",
            "PyWavelets                       1.5.0\n",
            "PyYAML                           6.0.1\n",
            "pyzmq                            23.2.1\n",
            "qdldl                            0.1.7.post0\n",
            "qudida                           0.0.4\n",
            "ratelim                          0.1.6\n",
            "referencing                      0.32.0\n",
            "regex                            2023.6.3\n",
            "requests                         2.31.0\n",
            "requests-oauthlib                1.3.1\n",
            "requirements-parser              0.5.0\n",
            "rich                             13.7.0\n",
            "rpds-py                          0.15.2\n",
            "rpy2                             3.4.2\n",
            "rsa                              4.9\n",
            "safetensors                      0.4.1\n",
            "scikit-image                     0.19.3\n",
            "scikit-learn                     1.2.2\n",
            "scipy                            1.11.4\n",
            "scooby                           0.9.2\n",
            "scs                              3.2.4.post1\n",
            "seaborn                          0.12.2\n",
            "SecretStorage                    3.3.1\n",
            "Send2Trash                       1.8.2\n",
            "setuptools                       67.7.2\n",
            "shapely                          2.0.2\n",
            "six                              1.16.0\n",
            "sklearn-pandas                   2.2.0\n",
            "smart-open                       6.4.0\n",
            "sniffio                          1.3.0\n",
            "snowballstemmer                  2.2.0\n",
            "sortedcontainers                 2.4.0\n",
            "soundfile                        0.12.1\n",
            "soupsieve                        2.5\n",
            "soxr                             0.3.7\n",
            "spacy                            3.6.1\n",
            "spacy-legacy                     3.0.12\n",
            "spacy-loggers                    1.0.5\n",
            "Sphinx                           5.0.2\n",
            "sphinxcontrib-applehelp          1.0.7\n",
            "sphinxcontrib-devhelp            1.0.5\n",
            "sphinxcontrib-htmlhelp           2.0.4\n",
            "sphinxcontrib-jsmath             1.0.1\n",
            "sphinxcontrib-qthelp             1.0.6\n",
            "sphinxcontrib-serializinghtml    1.1.9\n",
            "SQLAlchemy                       2.0.23\n",
            "sqlglot                          17.16.2\n",
            "sqlparse                         0.4.4\n",
            "srsly                            2.4.8\n",
            "stanio                           0.3.0\n",
            "statsmodels                      0.14.1\n",
            "sympy                            1.12\n",
            "tables                           3.8.0\n",
            "tabulate                         0.9.0\n",
            "tbb                              2021.11.0\n",
            "tblib                            3.0.0\n",
            "tenacity                         8.2.3\n",
            "tensorboard                      2.15.1\n",
            "tensorboard-data-server          0.7.2\n",
            "tensorflow                       2.15.0\n",
            "tensorflow-datasets              4.9.4\n",
            "tensorflow-estimator             2.15.0\n",
            "tensorflow-gcs-config            2.15.0\n",
            "tensorflow-hub                   0.15.0\n",
            "tensorflow-io-gcs-filesystem     0.34.0\n",
            "tensorflow-metadata              1.14.0\n",
            "tensorflow-probability           0.22.0\n",
            "tensorstore                      0.1.45\n",
            "termcolor                        2.4.0\n",
            "terminado                        0.18.0\n",
            "text-unidecode                   1.3\n",
            "textblob                         0.17.1\n",
            "tf-slim                          1.1.0\n",
            "thinc                            8.1.12\n",
            "threadpoolctl                    3.2.0\n",
            "tifffile                         2023.12.9\n",
            "tinycss2                         1.2.1\n",
            "tokenizers                       0.15.0\n",
            "toml                             0.10.2\n",
            "tomli                            2.0.1\n",
            "toolz                            0.12.0\n",
            "torch                            2.1.0+cu121\n",
            "torchaudio                       2.1.0+cu121\n",
            "torchdata                        0.7.0\n",
            "torchsummary                     1.5.1\n",
            "torchtext                        0.16.0\n",
            "torchvision                      0.16.0+cu121\n",
            "tornado                          6.3.2\n",
            "tqdm                             4.66.1\n",
            "traitlets                        5.7.1\n",
            "traittypes                       0.2.1\n",
            "transformers                     4.35.2\n",
            "triton                           2.1.0\n",
            "tweepy                           4.14.0\n",
            "typer                            0.9.0\n",
            "types-pytz                       2023.3.1.1\n",
            "types-setuptools                 69.0.0.0\n",
            "typing_extensions                4.5.0\n",
            "tzlocal                          5.2\n",
            "uc-micro-py                      1.0.2\n",
            "uritemplate                      4.1.1\n",
            "urllib3                          2.0.7\n",
            "vega-datasets                    0.9.0\n",
            "wadllib                          1.3.6\n",
            "wasabi                           1.1.2\n",
            "wcwidth                          0.2.12\n",
            "webcolors                        1.13\n",
            "webencodings                     0.5.1\n",
            "websocket-client                 1.7.0\n",
            "Werkzeug                         3.0.1\n",
            "wheel                            0.42.0\n",
            "widgetsnbextension               3.6.6\n",
            "wordcloud                        1.9.3\n",
            "wrapt                            1.14.1\n",
            "xarray                           2023.7.0\n",
            "xarray-einstats                  0.6.0\n",
            "xgboost                          2.0.2\n",
            "xlrd                             2.0.1\n",
            "xxhash                           3.4.1\n",
            "xyzservices                      2023.10.1\n",
            "yarl                             1.9.4\n",
            "yellowbrick                      1.5\n",
            "yfinance                         0.2.33\n",
            "zict                             3.0.0\n",
            "zipp                             3.17.0\n"
          ]
        }
      ],
      "source": [
        "!pip list"
      ]
    },
    {
      "cell_type": "code",
      "execution_count": null,
      "id": "02f907ea-f669-46c7-adcf-7f257e663448",
      "metadata": {
        "tags": [],
        "colab": {
          "base_uri": "https://localhost:8080/"
        },
        "id": "02f907ea-f669-46c7-adcf-7f257e663448",
        "outputId": "a06df532-ffa8-4587-e00a-d72161fed96f"
      },
      "outputs": [
        {
          "output_type": "stream",
          "name": "stdout",
          "text": [
            "Requirement already satisfied: opencv-python in /usr/local/lib/python3.10/dist-packages (4.8.0.76)\n",
            "Requirement already satisfied: matplotlib in /usr/local/lib/python3.10/dist-packages (3.7.1)\n",
            "Requirement already satisfied: imageio in /usr/local/lib/python3.10/dist-packages (2.31.6)\n",
            "Requirement already satisfied: gdown in /usr/local/lib/python3.10/dist-packages (4.6.6)\n",
            "Requirement already satisfied: tensorflow in /usr/local/lib/python3.10/dist-packages (2.15.0)\n",
            "Requirement already satisfied: numpy>=1.21.2 in /usr/local/lib/python3.10/dist-packages (from opencv-python) (1.23.5)\n",
            "Requirement already satisfied: contourpy>=1.0.1 in /usr/local/lib/python3.10/dist-packages (from matplotlib) (1.2.0)\n",
            "Requirement already satisfied: cycler>=0.10 in /usr/local/lib/python3.10/dist-packages (from matplotlib) (0.12.1)\n",
            "Requirement already satisfied: fonttools>=4.22.0 in /usr/local/lib/python3.10/dist-packages (from matplotlib) (4.46.0)\n",
            "Requirement already satisfied: kiwisolver>=1.0.1 in /usr/local/lib/python3.10/dist-packages (from matplotlib) (1.4.5)\n",
            "Requirement already satisfied: packaging>=20.0 in /usr/local/lib/python3.10/dist-packages (from matplotlib) (23.2)\n",
            "Requirement already satisfied: pillow>=6.2.0 in /usr/local/lib/python3.10/dist-packages (from matplotlib) (9.4.0)\n",
            "Requirement already satisfied: pyparsing>=2.3.1 in /usr/local/lib/python3.10/dist-packages (from matplotlib) (3.1.1)\n",
            "Requirement already satisfied: python-dateutil>=2.7 in /usr/local/lib/python3.10/dist-packages (from matplotlib) (2.8.2)\n",
            "Requirement already satisfied: filelock in /usr/local/lib/python3.10/dist-packages (from gdown) (3.13.1)\n",
            "Requirement already satisfied: requests[socks] in /usr/local/lib/python3.10/dist-packages (from gdown) (2.31.0)\n",
            "Requirement already satisfied: six in /usr/local/lib/python3.10/dist-packages (from gdown) (1.16.0)\n",
            "Requirement already satisfied: tqdm in /usr/local/lib/python3.10/dist-packages (from gdown) (4.66.1)\n",
            "Requirement already satisfied: beautifulsoup4 in /usr/local/lib/python3.10/dist-packages (from gdown) (4.11.2)\n",
            "Requirement already satisfied: absl-py>=1.0.0 in /usr/local/lib/python3.10/dist-packages (from tensorflow) (1.4.0)\n",
            "Requirement already satisfied: astunparse>=1.6.0 in /usr/local/lib/python3.10/dist-packages (from tensorflow) (1.6.3)\n",
            "Requirement already satisfied: flatbuffers>=23.5.26 in /usr/local/lib/python3.10/dist-packages (from tensorflow) (23.5.26)\n",
            "Requirement already satisfied: gast!=0.5.0,!=0.5.1,!=0.5.2,>=0.2.1 in /usr/local/lib/python3.10/dist-packages (from tensorflow) (0.5.4)\n",
            "Requirement already satisfied: google-pasta>=0.1.1 in /usr/local/lib/python3.10/dist-packages (from tensorflow) (0.2.0)\n",
            "Requirement already satisfied: h5py>=2.9.0 in /usr/local/lib/python3.10/dist-packages (from tensorflow) (3.9.0)\n",
            "Requirement already satisfied: libclang>=13.0.0 in /usr/local/lib/python3.10/dist-packages (from tensorflow) (16.0.6)\n",
            "Requirement already satisfied: ml-dtypes~=0.2.0 in /usr/local/lib/python3.10/dist-packages (from tensorflow) (0.2.0)\n",
            "Requirement already satisfied: opt-einsum>=2.3.2 in /usr/local/lib/python3.10/dist-packages (from tensorflow) (3.3.0)\n",
            "Requirement already satisfied: protobuf!=4.21.0,!=4.21.1,!=4.21.2,!=4.21.3,!=4.21.4,!=4.21.5,<5.0.0dev,>=3.20.3 in /usr/local/lib/python3.10/dist-packages (from tensorflow) (3.20.3)\n",
            "Requirement already satisfied: setuptools in /usr/local/lib/python3.10/dist-packages (from tensorflow) (67.7.2)\n",
            "Requirement already satisfied: termcolor>=1.1.0 in /usr/local/lib/python3.10/dist-packages (from tensorflow) (2.4.0)\n",
            "Requirement already satisfied: typing-extensions>=3.6.6 in /usr/local/lib/python3.10/dist-packages (from tensorflow) (4.5.0)\n",
            "Requirement already satisfied: wrapt<1.15,>=1.11.0 in /usr/local/lib/python3.10/dist-packages (from tensorflow) (1.14.1)\n",
            "Requirement already satisfied: tensorflow-io-gcs-filesystem>=0.23.1 in /usr/local/lib/python3.10/dist-packages (from tensorflow) (0.34.0)\n",
            "Requirement already satisfied: grpcio<2.0,>=1.24.3 in /usr/local/lib/python3.10/dist-packages (from tensorflow) (1.60.0)\n",
            "Requirement already satisfied: tensorboard<2.16,>=2.15 in /usr/local/lib/python3.10/dist-packages (from tensorflow) (2.15.1)\n",
            "Requirement already satisfied: tensorflow-estimator<2.16,>=2.15.0 in /usr/local/lib/python3.10/dist-packages (from tensorflow) (2.15.0)\n",
            "Requirement already satisfied: keras<2.16,>=2.15.0 in /usr/local/lib/python3.10/dist-packages (from tensorflow) (2.15.0)\n",
            "Requirement already satisfied: wheel<1.0,>=0.23.0 in /usr/local/lib/python3.10/dist-packages (from astunparse>=1.6.0->tensorflow) (0.42.0)\n",
            "Requirement already satisfied: google-auth<3,>=1.6.3 in /usr/local/lib/python3.10/dist-packages (from tensorboard<2.16,>=2.15->tensorflow) (2.17.3)\n",
            "Requirement already satisfied: google-auth-oauthlib<2,>=0.5 in /usr/local/lib/python3.10/dist-packages (from tensorboard<2.16,>=2.15->tensorflow) (1.2.0)\n",
            "Requirement already satisfied: markdown>=2.6.8 in /usr/local/lib/python3.10/dist-packages (from tensorboard<2.16,>=2.15->tensorflow) (3.5.1)\n",
            "Requirement already satisfied: tensorboard-data-server<0.8.0,>=0.7.0 in /usr/local/lib/python3.10/dist-packages (from tensorboard<2.16,>=2.15->tensorflow) (0.7.2)\n",
            "Requirement already satisfied: werkzeug>=1.0.1 in /usr/local/lib/python3.10/dist-packages (from tensorboard<2.16,>=2.15->tensorflow) (3.0.1)\n",
            "Requirement already satisfied: soupsieve>1.2 in /usr/local/lib/python3.10/dist-packages (from beautifulsoup4->gdown) (2.5)\n",
            "Requirement already satisfied: charset-normalizer<4,>=2 in /usr/local/lib/python3.10/dist-packages (from requests[socks]->gdown) (3.3.2)\n",
            "Requirement already satisfied: idna<4,>=2.5 in /usr/local/lib/python3.10/dist-packages (from requests[socks]->gdown) (3.6)\n",
            "Requirement already satisfied: urllib3<3,>=1.21.1 in /usr/local/lib/python3.10/dist-packages (from requests[socks]->gdown) (2.0.7)\n",
            "Requirement already satisfied: certifi>=2017.4.17 in /usr/local/lib/python3.10/dist-packages (from requests[socks]->gdown) (2023.11.17)\n",
            "Requirement already satisfied: PySocks!=1.5.7,>=1.5.6 in /usr/local/lib/python3.10/dist-packages (from requests[socks]->gdown) (1.7.1)\n",
            "Requirement already satisfied: cachetools<6.0,>=2.0.0 in /usr/local/lib/python3.10/dist-packages (from google-auth<3,>=1.6.3->tensorboard<2.16,>=2.15->tensorflow) (5.3.2)\n",
            "Requirement already satisfied: pyasn1-modules>=0.2.1 in /usr/local/lib/python3.10/dist-packages (from google-auth<3,>=1.6.3->tensorboard<2.16,>=2.15->tensorflow) (0.3.0)\n",
            "Requirement already satisfied: rsa<5,>=3.1.4 in /usr/local/lib/python3.10/dist-packages (from google-auth<3,>=1.6.3->tensorboard<2.16,>=2.15->tensorflow) (4.9)\n",
            "Requirement already satisfied: requests-oauthlib>=0.7.0 in /usr/local/lib/python3.10/dist-packages (from google-auth-oauthlib<2,>=0.5->tensorboard<2.16,>=2.15->tensorflow) (1.3.1)\n",
            "Requirement already satisfied: MarkupSafe>=2.1.1 in /usr/local/lib/python3.10/dist-packages (from werkzeug>=1.0.1->tensorboard<2.16,>=2.15->tensorflow) (2.1.3)\n",
            "Requirement already satisfied: pyasn1<0.6.0,>=0.4.6 in /usr/local/lib/python3.10/dist-packages (from pyasn1-modules>=0.2.1->google-auth<3,>=1.6.3->tensorboard<2.16,>=2.15->tensorflow) (0.5.1)\n",
            "Requirement already satisfied: oauthlib>=3.0.0 in /usr/local/lib/python3.10/dist-packages (from requests-oauthlib>=0.7.0->google-auth-oauthlib<2,>=0.5->tensorboard<2.16,>=2.15->tensorflow) (3.2.2)\n"
          ]
        }
      ],
      "source": [
        "!pip install opencv-python matplotlib imageio gdown tensorflow"
      ]
    },
    {
      "cell_type": "code",
      "execution_count": 1,
      "id": "b24af50c-20b8-409d-ad78-30a933fdd669",
      "metadata": {
        "tags": [],
        "id": "b24af50c-20b8-409d-ad78-30a933fdd669"
      },
      "outputs": [],
      "source": [
        "import os\n",
        "import cv2\n",
        "import tensorflow as tf\n",
        "import numpy as np\n",
        "from typing import List\n",
        "from matplotlib import pyplot as plt\n",
        "import imageio"
      ]
    },
    {
      "cell_type": "code",
      "execution_count": 2,
      "id": "1e3db0b0-e559-4ad6-91fd-e7414b7d75e6",
      "metadata": {
        "colab": {
          "base_uri": "https://localhost:8080/"
        },
        "id": "1e3db0b0-e559-4ad6-91fd-e7414b7d75e6",
        "outputId": "b8278010-c46d-427e-c659-0a1075cc96b2"
      },
      "outputs": [
        {
          "output_type": "execute_result",
          "data": {
            "text/plain": [
              "[PhysicalDevice(name='/physical_device:GPU:0', device_type='GPU')]"
            ]
          },
          "metadata": {},
          "execution_count": 2
        }
      ],
      "source": [
        "tf.config.list_physical_devices('GPU')"
      ]
    },
    {
      "cell_type": "code",
      "execution_count": 3,
      "id": "378d045a-3003-4f93-b7d2-a25a97774a68",
      "metadata": {
        "tags": [],
        "id": "378d045a-3003-4f93-b7d2-a25a97774a68"
      },
      "outputs": [],
      "source": [
        "physical_devices = tf.config.list_physical_devices('GPU')\n",
        "try:\n",
        "    tf.config.experimental.set_memory_growth(physical_devices[0], True)\n",
        "except:\n",
        "    pass"
      ]
    },
    {
      "cell_type": "markdown",
      "id": "7a19e88e-c7b9-45c1-ae1e-f2109329c71b",
      "metadata": {
        "tags": [],
        "id": "7a19e88e-c7b9-45c1-ae1e-f2109329c71b"
      },
      "source": [
        "# 1. Build Data Loading Functions"
      ]
    },
    {
      "cell_type": "code",
      "execution_count": 4,
      "id": "8548cc59-6dfc-4acc-abc3-3e65212db02e",
      "metadata": {
        "tags": [],
        "id": "8548cc59-6dfc-4acc-abc3-3e65212db02e"
      },
      "outputs": [],
      "source": [
        "def load_video(path:str) -> List[float]:\n",
        "\n",
        "    cap = cv2.VideoCapture(path)\n",
        "    frames = []\n",
        "    for _ in range(int(cap.get(cv2.CAP_PROP_FRAME_COUNT))):\n",
        "        ret, frame = cap.read()\n",
        "        frame = tf.image.rgb_to_grayscale(frame)\n",
        "        frames.append(frame[190:236,80:220,:])\n",
        "    cap.release()\n",
        "\n",
        "    mean = tf.math.reduce_mean(frames)\n",
        "    std = tf.math.reduce_std(tf.cast(frames, tf.float32))\n",
        "    return tf.cast((frames - mean), tf.float32) / std"
      ]
    },
    {
      "cell_type": "code",
      "execution_count": 5,
      "id": "ec735e0b-ec98-4eb0-8f49-c35527d6670a",
      "metadata": {
        "tags": [],
        "id": "ec735e0b-ec98-4eb0-8f49-c35527d6670a"
      },
      "outputs": [],
      "source": [
        "vocab = [x for x in \"abcdefghijklmnopqrstuvwxyz'?!123456789 \"]"
      ]
    },
    {
      "cell_type": "code",
      "execution_count": 6,
      "id": "be04e972-d7a5-4a72-82d8-a6bdde1f3ce6",
      "metadata": {
        "tags": [],
        "id": "be04e972-d7a5-4a72-82d8-a6bdde1f3ce6",
        "colab": {
          "base_uri": "https://localhost:8080/"
        },
        "outputId": "cc611231-4c14-4247-bb39-68db0e8534ce"
      },
      "outputs": [
        {
          "output_type": "stream",
          "name": "stdout",
          "text": [
            "The vocabulary is: ['', 'a', 'b', 'c', 'd', 'e', 'f', 'g', 'h', 'i', 'j', 'k', 'l', 'm', 'n', 'o', 'p', 'q', 'r', 's', 't', 'u', 'v', 'w', 'x', 'y', 'z', \"'\", '?', '!', '1', '2', '3', '4', '5', '6', '7', '8', '9', ' '] (size =40)\n"
          ]
        }
      ],
      "source": [
        "char_to_num = tf.keras.layers.StringLookup(vocabulary=vocab, oov_token=\"\")\n",
        "num_to_char = tf.keras.layers.StringLookup(\n",
        "    vocabulary=char_to_num.get_vocabulary(), oov_token=\"\", invert=True\n",
        ")\n",
        "\n",
        "print(\n",
        "    f\"The vocabulary is: {char_to_num.get_vocabulary()} \"\n",
        "    f\"(size ={char_to_num.vocabulary_size()})\"\n",
        ")"
      ]
    },
    {
      "cell_type": "code",
      "execution_count": 7,
      "id": "559f7420-6802-45fa-9ca0-b1ff209b461c",
      "metadata": {
        "tags": [],
        "id": "559f7420-6802-45fa-9ca0-b1ff209b461c",
        "colab": {
          "base_uri": "https://localhost:8080/"
        },
        "outputId": "b9871fac-f545-40b8-817d-ed942cc4de36"
      },
      "outputs": [
        {
          "output_type": "execute_result",
          "data": {
            "text/plain": [
              "['',\n",
              " 'a',\n",
              " 'b',\n",
              " 'c',\n",
              " 'd',\n",
              " 'e',\n",
              " 'f',\n",
              " 'g',\n",
              " 'h',\n",
              " 'i',\n",
              " 'j',\n",
              " 'k',\n",
              " 'l',\n",
              " 'm',\n",
              " 'n',\n",
              " 'o',\n",
              " 'p',\n",
              " 'q',\n",
              " 'r',\n",
              " 's',\n",
              " 't',\n",
              " 'u',\n",
              " 'v',\n",
              " 'w',\n",
              " 'x',\n",
              " 'y',\n",
              " 'z',\n",
              " \"'\",\n",
              " '?',\n",
              " '!',\n",
              " '1',\n",
              " '2',\n",
              " '3',\n",
              " '4',\n",
              " '5',\n",
              " '6',\n",
              " '7',\n",
              " '8',\n",
              " '9',\n",
              " ' ']"
            ]
          },
          "metadata": {},
          "execution_count": 7
        }
      ],
      "source": [
        "char_to_num.get_vocabulary()"
      ]
    },
    {
      "cell_type": "code",
      "execution_count": 8,
      "id": "797ff78b-b48f-4e14-bb62-8cd0ebf9501a",
      "metadata": {
        "tags": [],
        "id": "797ff78b-b48f-4e14-bb62-8cd0ebf9501a",
        "colab": {
          "base_uri": "https://localhost:8080/"
        },
        "outputId": "4950470c-22eb-478e-c93d-54b2c978f8ab"
      },
      "outputs": [
        {
          "output_type": "execute_result",
          "data": {
            "text/plain": [
              "<tf.Tensor: shape=(4,), dtype=int64, numpy=array([14,  9,  3, 11])>"
            ]
          },
          "metadata": {},
          "execution_count": 8
        }
      ],
      "source": [
        "char_to_num(['n','i','c','k'])"
      ]
    },
    {
      "cell_type": "code",
      "execution_count": 9,
      "id": "8cd7f4f4-ae77-4509-a4f4-c723787ebad1",
      "metadata": {
        "id": "8cd7f4f4-ae77-4509-a4f4-c723787ebad1",
        "colab": {
          "base_uri": "https://localhost:8080/"
        },
        "outputId": "02061301-5928-42b9-9b84-97f77cbd8676"
      },
      "outputs": [
        {
          "output_type": "execute_result",
          "data": {
            "text/plain": [
              "<tf.Tensor: shape=(4,), dtype=string, numpy=array([b'n', b'i', b'c', b'k'], dtype=object)>"
            ]
          },
          "metadata": {},
          "execution_count": 9
        }
      ],
      "source": [
        "num_to_char([14,  9,  3, 11])"
      ]
    },
    {
      "cell_type": "code",
      "execution_count": 10,
      "id": "9491bab5-6a3c-4f79-879a-8f9fbe73ae2e",
      "metadata": {
        "tags": [],
        "id": "9491bab5-6a3c-4f79-879a-8f9fbe73ae2e"
      },
      "outputs": [],
      "source": [
        "def load_alignments(path:str) -> List[str]:\n",
        "    with open(path, 'r') as f:\n",
        "        lines = f.readlines()\n",
        "    tokens = []\n",
        "    for line in lines:\n",
        "        line = line.split()\n",
        "        if line[2] != 'sil':\n",
        "            tokens = [*tokens,' ',line[2]]\n",
        "    return char_to_num(tf.reshape(tf.strings.unicode_split(tokens, input_encoding='UTF-8'), (-1)))[1:]"
      ]
    },
    {
      "cell_type": "code",
      "execution_count": 11,
      "id": "dd01ca9f-77fb-4643-a2aa-47dd82c5d66b",
      "metadata": {
        "tags": [],
        "id": "dd01ca9f-77fb-4643-a2aa-47dd82c5d66b"
      },
      "outputs": [],
      "source": [
        "def load_data(path: str):\n",
        "    path = bytes.decode(path.numpy())\n",
        "    file_name = path.split('/')[-1].split('.')[0]\n",
        "    # File name splitting for windows\n",
        "    #file_name = path.split('\\\\')[-1].split('.')[0]\n",
        "    video_path = os.path.join('data','s1',f'{file_name}.mpg')\n",
        "    alignment_path = os.path.join('data','alignments','s1',f'{file_name}.align')\n",
        "    frames = load_video(video_path)\n",
        "    alignments = load_alignments(alignment_path)\n",
        "\n",
        "    return frames, alignments"
      ]
    },
    {
      "cell_type": "code",
      "execution_count": 12,
      "id": "8cb7cc58-31ae-4904-a805-1177a82717d2",
      "metadata": {
        "tags": [],
        "id": "8cb7cc58-31ae-4904-a805-1177a82717d2"
      },
      "outputs": [],
      "source": [
        "test_path = '/content/data/s1/bbaf2n.mpg'"
      ]
    },
    {
      "cell_type": "code",
      "execution_count": 13,
      "id": "76aa964f-0c84-490d-897a-d00e3966e2c9",
      "metadata": {
        "id": "76aa964f-0c84-490d-897a-d00e3966e2c9",
        "colab": {
          "base_uri": "https://localhost:8080/",
          "height": 35
        },
        "outputId": "f731812d-9632-48bd-8e76-fea9c203e53c"
      },
      "outputs": [
        {
          "output_type": "execute_result",
          "data": {
            "text/plain": [
              "'/content/data/s1/bbaf2n.mpg'"
            ],
            "application/vnd.google.colaboratory.intrinsic+json": {
              "type": "string"
            }
          },
          "metadata": {},
          "execution_count": 13
        }
      ],
      "source": [
        "tf.convert_to_tensor(test_path).numpy().decode('utf-8')"
      ]
    },
    {
      "cell_type": "code",
      "source": [
        "tf.convert_to_tensor(test_path).numpy().decode('utf-8')"
      ],
      "metadata": {
        "id": "bjzJh0Ctq61d",
        "colab": {
          "base_uri": "https://localhost:8080/",
          "height": 35
        },
        "outputId": "1dbd83b8-5eb7-42f0-ee47-1e5489386dc7"
      },
      "id": "bjzJh0Ctq61d",
      "execution_count": 14,
      "outputs": [
        {
          "output_type": "execute_result",
          "data": {
            "text/plain": [
              "'/content/data/s1/bbaf2n.mpg'"
            ],
            "application/vnd.google.colaboratory.intrinsic+json": {
              "type": "string"
            }
          },
          "metadata": {},
          "execution_count": 14
        }
      ]
    },
    {
      "cell_type": "code",
      "source": [
        "load_data(tf.convert_to_tensor(test_path))"
      ],
      "metadata": {
        "colab": {
          "base_uri": "https://localhost:8080/"
        },
        "id": "zJHE0fccsOik",
        "outputId": "64ac0306-594e-4922-b869-28b88cacd737"
      },
      "id": "zJHE0fccsOik",
      "execution_count": 15,
      "outputs": [
        {
          "output_type": "execute_result",
          "data": {
            "text/plain": [
              "(<tf.Tensor: shape=(75, 46, 140, 1), dtype=float32, numpy=\n",
              " array([[[[1.4991663 ],\n",
              "          [1.4991663 ],\n",
              "          [1.4616871 ],\n",
              "          ...,\n",
              "          [0.41227072],\n",
              "          [0.41227072],\n",
              "          [0.41227072]],\n",
              " \n",
              "         [[1.4991663 ],\n",
              "          [1.4991663 ],\n",
              "          [1.4616871 ],\n",
              "          ...,\n",
              "          [0.41227072],\n",
              "          [0.41227072],\n",
              "          [0.41227072]],\n",
              " \n",
              "         [[1.4616871 ],\n",
              "          [1.4616871 ],\n",
              "          [1.4991663 ],\n",
              "          ...,\n",
              "          [0.3373124 ],\n",
              "          [0.3373124 ],\n",
              "          [0.3373124 ]],\n",
              " \n",
              "         ...,\n",
              " \n",
              "         [[1.0494163 ],\n",
              "          [1.0494163 ],\n",
              "          [1.0119373 ],\n",
              "          ...,\n",
              "          [0.11243746],\n",
              "          [0.11243746],\n",
              "          [0.07495831]],\n",
              " \n",
              "         [[1.0494163 ],\n",
              "          [1.0494163 ],\n",
              "          [1.0119373 ],\n",
              "          ...,\n",
              "          [0.11243746],\n",
              "          [0.07495831],\n",
              "          [0.07495831]],\n",
              " \n",
              "         [[1.0494163 ],\n",
              "          [1.0494163 ],\n",
              "          [1.0119373 ],\n",
              "          ...,\n",
              "          [0.07495831],\n",
              "          [0.07495831],\n",
              "          [0.03747915]]],\n",
              " \n",
              " \n",
              "        [[[1.4242079 ],\n",
              "          [1.4242079 ],\n",
              "          [1.4242079 ],\n",
              "          ...,\n",
              "          [0.3373124 ],\n",
              "          [0.3373124 ],\n",
              "          [0.3373124 ]],\n",
              " \n",
              "         [[1.4242079 ],\n",
              "          [1.4242079 ],\n",
              "          [1.4242079 ],\n",
              "          ...,\n",
              "          [0.3373124 ],\n",
              "          [0.3373124 ],\n",
              "          [0.3373124 ]],\n",
              " \n",
              "         [[1.4242079 ],\n",
              "          [1.4242079 ],\n",
              "          [1.4242079 ],\n",
              "          ...,\n",
              "          [0.29983324],\n",
              "          [0.29983324],\n",
              "          [0.29983324]],\n",
              " \n",
              "         ...,\n",
              " \n",
              "         [[1.0494163 ],\n",
              "          [1.0494163 ],\n",
              "          [1.0119373 ],\n",
              "          ...,\n",
              "          [0.11243746],\n",
              "          [0.11243746],\n",
              "          [0.07495831]],\n",
              " \n",
              "         [[1.0494163 ],\n",
              "          [1.0494163 ],\n",
              "          [1.0119373 ],\n",
              "          ...,\n",
              "          [0.11243746],\n",
              "          [0.07495831],\n",
              "          [0.07495831]],\n",
              " \n",
              "         [[1.0494163 ],\n",
              "          [1.0494163 ],\n",
              "          [1.0119373 ],\n",
              "          ...,\n",
              "          [0.07495831],\n",
              "          [0.07495831],\n",
              "          [0.03747915]]],\n",
              " \n",
              " \n",
              "        [[[1.3492496 ],\n",
              "          [1.3492496 ],\n",
              "          [1.3492496 ],\n",
              "          ...,\n",
              "          [0.3373124 ],\n",
              "          [0.3373124 ],\n",
              "          [0.3373124 ]],\n",
              " \n",
              "         [[1.3492496 ],\n",
              "          [1.3492496 ],\n",
              "          [1.3492496 ],\n",
              "          ...,\n",
              "          [0.3373124 ],\n",
              "          [0.3373124 ],\n",
              "          [0.3373124 ]],\n",
              " \n",
              "         [[1.4242079 ],\n",
              "          [1.4242079 ],\n",
              "          [1.3867288 ],\n",
              "          ...,\n",
              "          [0.26235408],\n",
              "          [0.29983324],\n",
              "          [0.29983324]],\n",
              " \n",
              "         ...,\n",
              " \n",
              "         [[0.97445804],\n",
              "          [0.97445804],\n",
              "          [0.9369789 ],\n",
              "          ...,\n",
              "          [0.11243746],\n",
              "          [0.11243746],\n",
              "          [0.07495831]],\n",
              " \n",
              "         [[0.97445804],\n",
              "          [0.97445804],\n",
              "          [0.9369789 ],\n",
              "          ...,\n",
              "          [0.11243746],\n",
              "          [0.07495831],\n",
              "          [0.07495831]],\n",
              " \n",
              "         [[0.97445804],\n",
              "          [0.97445804],\n",
              "          [0.9369789 ],\n",
              "          ...,\n",
              "          [0.07495831],\n",
              "          [0.07495831],\n",
              "          [0.03747915]]],\n",
              " \n",
              " \n",
              "        ...,\n",
              " \n",
              " \n",
              "        [[[1.4991663 ],\n",
              "          [1.4991663 ],\n",
              "          [1.4991663 ],\n",
              "          ...,\n",
              "          [0.29983324],\n",
              "          [0.29983324],\n",
              "          [0.29983324]],\n",
              " \n",
              "         [[1.4242079 ],\n",
              "          [1.4242079 ],\n",
              "          [1.4242079 ],\n",
              "          ...,\n",
              "          [0.29983324],\n",
              "          [0.29983324],\n",
              "          [0.29983324]],\n",
              " \n",
              "         [[1.4616871 ],\n",
              "          [1.4616871 ],\n",
              "          [1.4242079 ],\n",
              "          ...,\n",
              "          [0.29983324],\n",
              "          [0.26235408],\n",
              "          [0.26235408]],\n",
              " \n",
              "         ...,\n",
              " \n",
              "         [[1.0868955 ],\n",
              "          [1.0494163 ],\n",
              "          [1.0494163 ],\n",
              "          ...,\n",
              "          [0.07495831],\n",
              "          [0.07495831],\n",
              "          [0.07495831]],\n",
              " \n",
              "         [[1.0494163 ],\n",
              "          [1.0494163 ],\n",
              "          [1.0494163 ],\n",
              "          ...,\n",
              "          [0.07495831],\n",
              "          [0.07495831],\n",
              "          [0.07495831]],\n",
              " \n",
              "         [[1.0494163 ],\n",
              "          [1.0494163 ],\n",
              "          [1.0494163 ],\n",
              "          ...,\n",
              "          [0.07495831],\n",
              "          [0.07495831],\n",
              "          [0.03747915]]],\n",
              " \n",
              " \n",
              "        [[[1.4991663 ],\n",
              "          [1.4991663 ],\n",
              "          [1.5366454 ],\n",
              "          ...,\n",
              "          [0.3373124 ],\n",
              "          [0.29983324],\n",
              "          [0.29983324]],\n",
              " \n",
              "         [[1.4242079 ],\n",
              "          [1.4242079 ],\n",
              "          [1.4616871 ],\n",
              "          ...,\n",
              "          [0.3373124 ],\n",
              "          [0.29983324],\n",
              "          [0.29983324]],\n",
              " \n",
              "         [[1.4616871 ],\n",
              "          [1.4616871 ],\n",
              "          [1.4242079 ],\n",
              "          ...,\n",
              "          [0.26235408],\n",
              "          [0.29983324],\n",
              "          [0.29983324]],\n",
              " \n",
              "         ...,\n",
              " \n",
              "         [[1.0494163 ],\n",
              "          [1.0119373 ],\n",
              "          [1.0119373 ],\n",
              "          ...,\n",
              "          [0.03747915],\n",
              "          [0.03747915],\n",
              "          [0.03747915]],\n",
              " \n",
              "         [[1.0494163 ],\n",
              "          [1.0119373 ],\n",
              "          [1.0119373 ],\n",
              "          ...,\n",
              "          [0.03747915],\n",
              "          [0.03747915],\n",
              "          [0.03747915]],\n",
              " \n",
              "         [[1.0119373 ],\n",
              "          [1.0119373 ],\n",
              "          [0.97445804],\n",
              "          ...,\n",
              "          [0.03747915],\n",
              "          [0.03747915],\n",
              "          [0.        ]]],\n",
              " \n",
              " \n",
              "        [[[1.4616871 ],\n",
              "          [1.4616871 ],\n",
              "          [1.4616871 ],\n",
              "          ...,\n",
              "          [0.29983324],\n",
              "          [0.29983324],\n",
              "          [0.29983324]],\n",
              " \n",
              "         [[1.4616871 ],\n",
              "          [1.4616871 ],\n",
              "          [1.4616871 ],\n",
              "          ...,\n",
              "          [0.29983324],\n",
              "          [0.29983324],\n",
              "          [0.29983324]],\n",
              " \n",
              "         [[1.4242079 ],\n",
              "          [1.4242079 ],\n",
              "          [1.3867288 ],\n",
              "          ...,\n",
              "          [0.29983324],\n",
              "          [0.29983324],\n",
              "          [0.29983324]],\n",
              " \n",
              "         ...,\n",
              " \n",
              "         [[1.0494163 ],\n",
              "          [1.0119373 ],\n",
              "          [1.0119373 ],\n",
              "          ...,\n",
              "          [0.03747915],\n",
              "          [0.03747915],\n",
              "          [0.03747915]],\n",
              " \n",
              "         [[0.97445804],\n",
              "          [0.9369789 ],\n",
              "          [0.97445804],\n",
              "          ...,\n",
              "          [0.03747915],\n",
              "          [0.03747915],\n",
              "          [0.03747915]],\n",
              " \n",
              "         [[0.97445804],\n",
              "          [0.9369789 ],\n",
              "          [0.97445804],\n",
              "          ...,\n",
              "          [0.03747915],\n",
              "          [0.03747915],\n",
              "          [0.        ]]]], dtype=float32)>,\n",
              " <tf.Tensor: shape=(21,), dtype=int64, numpy=\n",
              " array([ 2,  9, 14, 39,  2, 12, 21,  5, 39,  1, 20, 39,  6, 39, 20, 23, 15,\n",
              "        39, 14, 15, 23])>)"
            ]
          },
          "metadata": {},
          "execution_count": 15
        }
      ]
    },
    {
      "cell_type": "code",
      "execution_count": 16,
      "id": "eb602c71-8560-4f9e-b26b-08202febb937",
      "metadata": {
        "scrolled": true,
        "tags": [],
        "id": "eb602c71-8560-4f9e-b26b-08202febb937"
      },
      "outputs": [],
      "source": [
        "frames, alignments = load_data(tf.convert_to_tensor(test_path))"
      ]
    },
    {
      "cell_type": "code",
      "execution_count": 17,
      "id": "0e3184a1-6b02-4b4f-84a8-a0a65f951ea2",
      "metadata": {
        "id": "0e3184a1-6b02-4b4f-84a8-a0a65f951ea2",
        "colab": {
          "base_uri": "https://localhost:8080/",
          "height": 244
        },
        "outputId": "44bc4aa5-03ae-4fad-be28-57499e33c194"
      },
      "outputs": [
        {
          "output_type": "execute_result",
          "data": {
            "text/plain": [
              "<matplotlib.image.AxesImage at 0x7f4418a6b3a0>"
            ]
          },
          "metadata": {},
          "execution_count": 17
        },
        {
          "output_type": "display_data",
          "data": {
            "text/plain": [
              "<Figure size 640x480 with 1 Axes>"
            ],
            "image/png": "[encoded data removed]"
          },
          "metadata": {}
        }
      ],
      "source": [
        "plt.imshow(frames[40])"
      ]
    },
    {
      "cell_type": "code",
      "execution_count": 18,
      "id": "d7ec0833-d54b-4073-84cf-92d011c60ec1",
      "metadata": {
        "id": "d7ec0833-d54b-4073-84cf-92d011c60ec1",
        "colab": {
          "base_uri": "https://localhost:8080/"
        },
        "outputId": "efb51632-9616-405c-89ec-92d1cfc4f3b3"
      },
      "outputs": [
        {
          "output_type": "execute_result",
          "data": {
            "text/plain": [
              "<tf.Tensor: shape=(21,), dtype=int64, numpy=\n",
              "array([ 2,  9, 14, 39,  2, 12, 21,  5, 39,  1, 20, 39,  6, 39, 20, 23, 15,\n",
              "       39, 14, 15, 23])>"
            ]
          },
          "metadata": {},
          "execution_count": 18
        }
      ],
      "source": [
        "alignments"
      ]
    },
    {
      "cell_type": "code",
      "source": [
        "num_to_char(alignments.numpy()).numpy()"
      ],
      "metadata": {
        "colab": {
          "base_uri": "https://localhost:8080/"
        },
        "id": "SxBnaX-KTQJn",
        "outputId": "d81d838f-9722-4cb4-945f-6186022d7b73"
      },
      "id": "SxBnaX-KTQJn",
      "execution_count": 19,
      "outputs": [
        {
          "output_type": "execute_result",
          "data": {
            "text/plain": [
              "array([b'b', b'i', b'n', b' ', b'b', b'l', b'u', b'e', b' ', b'a', b't',\n",
              "       b' ', b'f', b' ', b't', b'w', b'o', b' ', b'n', b'o', b'w'],\n",
              "      dtype=object)"
            ]
          },
          "metadata": {},
          "execution_count": 19
        }
      ]
    },
    {
      "cell_type": "code",
      "execution_count": 20,
      "id": "fe1ad370-b287-4b46-85a2-7c45b0bd9b10",
      "metadata": {
        "id": "fe1ad370-b287-4b46-85a2-7c45b0bd9b10",
        "colab": {
          "base_uri": "https://localhost:8080/"
        },
        "outputId": "16ad3e42-64f2-4d49-9c25-69d49ded0a95"
      },
      "outputs": [
        {
          "output_type": "execute_result",
          "data": {
            "text/plain": [
              "<tf.Tensor: shape=(), dtype=string, numpy=b'bin blue at f two now'>"
            ]
          },
          "metadata": {},
          "execution_count": 20
        }
      ],
      "source": [
        "tf.strings.reduce_join([bytes.decode(x) for x in num_to_char(alignments.numpy()).numpy()])"
      ]
    },
    {
      "cell_type": "code",
      "execution_count": 21,
      "id": "6871031a-b0ba-4c76-a852-f6329b0f2606",
      "metadata": {
        "tags": [],
        "id": "6871031a-b0ba-4c76-a852-f6329b0f2606"
      },
      "outputs": [],
      "source": [
        "def mappable_function(path:str) ->List[str]:\n",
        "    result = tf.py_function(load_data, [path], (tf.float32, tf.int64))\n",
        "    return result"
      ]
    },
    {
      "cell_type": "markdown",
      "id": "c40a7eb4-0c3e-4eab-9291-5611cb68ce08",
      "metadata": {
        "tags": [],
        "id": "c40a7eb4-0c3e-4eab-9291-5611cb68ce08"
      },
      "source": [
        "# 2. Create Data Pipeline"
      ]
    },
    {
      "cell_type": "code",
      "execution_count": 22,
      "id": "7686355d-45aa-4c85-ad9c-053e6a9b4d81",
      "metadata": {
        "tags": [],
        "id": "7686355d-45aa-4c85-ad9c-053e6a9b4d81"
      },
      "outputs": [],
      "source": [
        "from matplotlib import pyplot as plt"
      ]
    },
    {
      "cell_type": "code",
      "execution_count": 23,
      "id": "f066fea2-91b1-42ed-a67d-00566a1a53ff",
      "metadata": {
        "tags": [],
        "id": "f066fea2-91b1-42ed-a67d-00566a1a53ff"
      },
      "outputs": [],
      "source": [
        "data = tf.data.Dataset.list_files('./data/s1/*.mpg')\n",
        "data = data.shuffle(500, reshuffle_each_iteration=False)\n",
        "data = data.map(mappable_function)\n",
        "data = data.padded_batch(2, padded_shapes=([75,None,None,None],[40]))\n",
        "data = data.prefetch(tf.data.AUTOTUNE)\n",
        "# Added for split\n",
        "train = data.take(450)\n",
        "test = data.skip(450)"
      ]
    },
    {
      "cell_type": "code",
      "execution_count": 24,
      "id": "6b1365bd-7742-41d1-95d4-247021751c3a",
      "metadata": {
        "id": "6b1365bd-7742-41d1-95d4-247021751c3a",
        "colab": {
          "base_uri": "https://localhost:8080/"
        },
        "outputId": "519d3bfd-05ee-40bd-e725-0ed2f7db9bd5"
      },
      "outputs": [
        {
          "output_type": "execute_result",
          "data": {
            "text/plain": [
              "50"
            ]
          },
          "metadata": {},
          "execution_count": 24
        }
      ],
      "source": [
        "len(test)"
      ]
    },
    {
      "cell_type": "code",
      "execution_count": 25,
      "id": "5281bde8-fdc8-4da1-bd55-5a7929a9e80c",
      "metadata": {
        "id": "5281bde8-fdc8-4da1-bd55-5a7929a9e80c"
      },
      "outputs": [],
      "source": [
        "frames, alignments = data.as_numpy_iterator().next()"
      ]
    },
    {
      "cell_type": "code",
      "execution_count": 26,
      "id": "cbebe683-6afd-47fd-bba4-c83b4b13bb32",
      "metadata": {
        "id": "cbebe683-6afd-47fd-bba4-c83b4b13bb32",
        "colab": {
          "base_uri": "https://localhost:8080/"
        },
        "outputId": "413c6241-7fbf-4835-a437-303a435d2e0c"
      },
      "outputs": [
        {
          "output_type": "execute_result",
          "data": {
            "text/plain": [
              "2"
            ]
          },
          "metadata": {},
          "execution_count": 26
        }
      ],
      "source": [
        "len(frames)"
      ]
    },
    {
      "cell_type": "code",
      "execution_count": 27,
      "id": "5cf2d676-93a9-434c-b3c7-bdcc2577b2e7",
      "metadata": {
        "tags": [],
        "id": "5cf2d676-93a9-434c-b3c7-bdcc2577b2e7"
      },
      "outputs": [],
      "source": [
        "sample = data.as_numpy_iterator()"
      ]
    },
    {
      "cell_type": "code",
      "execution_count": 28,
      "id": "efa6cd46-7079-46c0-b45b-832f339f6cb0",
      "metadata": {
        "scrolled": true,
        "tags": [],
        "id": "efa6cd46-7079-46c0-b45b-832f339f6cb0",
        "colab": {
          "base_uri": "https://localhost:8080/"
        },
        "outputId": "b2892445-2e52-4dd3-85ba-dc077218ace8"
      },
      "outputs": [
        {
          "output_type": "execute_result",
          "data": {
            "text/plain": [
              "array([[[[[ 1.4604002 ],\n",
              "          [ 1.4604002 ],\n",
              "          [ 1.4198335 ],\n",
              "          ...,\n",
              "          [ 0.04056667],\n",
              "          [ 0.12170001],\n",
              "          [ 0.12170001]],\n",
              "\n",
              "         [[ 1.4604002 ],\n",
              "          [ 1.4604002 ],\n",
              "          [ 1.4198335 ],\n",
              "          ...,\n",
              "          [ 0.04056667],\n",
              "          [ 0.12170001],\n",
              "          [ 0.12170001]],\n",
              "\n",
              "         [[ 1.2981335 ],\n",
              "          [ 1.2981335 ],\n",
              "          [ 1.2981335 ],\n",
              "          ...,\n",
              "          [ 0.12170001],\n",
              "          [ 0.08113334],\n",
              "          [ 0.08113334]],\n",
              "\n",
              "         ...,\n",
              "\n",
              "         [[ 0.9736001 ],\n",
              "          [ 0.9736001 ],\n",
              "          [ 0.93303347],\n",
              "          ...,\n",
              "          [10.182235  ],\n",
              "          [10.141667  ],\n",
              "          [10.141667  ]],\n",
              "\n",
              "         [[ 0.9736001 ],\n",
              "          [ 0.9736001 ],\n",
              "          [ 0.93303347],\n",
              "          ...,\n",
              "          [10.141667  ],\n",
              "          [10.101101  ],\n",
              "          [10.101101  ]],\n",
              "\n",
              "         [[ 0.9736001 ],\n",
              "          [ 0.9736001 ],\n",
              "          [ 0.93303347],\n",
              "          ...,\n",
              "          [10.141667  ],\n",
              "          [10.101101  ],\n",
              "          [10.101101  ]]],\n",
              "\n",
              "\n",
              "        [[[ 1.3792669 ],\n",
              "          [ 1.3792669 ],\n",
              "          [ 1.3387002 ],\n",
              "          ...,\n",
              "          [ 0.12170001],\n",
              "          [ 0.04056667],\n",
              "          [ 0.04056667]],\n",
              "\n",
              "         [[ 1.3792669 ],\n",
              "          [ 1.3792669 ],\n",
              "          [ 1.3387002 ],\n",
              "          ...,\n",
              "          [ 0.08113334],\n",
              "          [ 0.04056667],\n",
              "          [ 0.04056667]],\n",
              "\n",
              "         [[ 1.2981335 ],\n",
              "          [ 1.2981335 ],\n",
              "          [ 1.2981335 ],\n",
              "          ...,\n",
              "          [ 0.12170001],\n",
              "          [ 0.08113334],\n",
              "          [ 0.08113334]],\n",
              "\n",
              "         ...,\n",
              "\n",
              "         [[ 0.9736001 ],\n",
              "          [ 0.9736001 ],\n",
              "          [ 0.9736001 ],\n",
              "          ...,\n",
              "          [10.182235  ],\n",
              "          [10.141667  ],\n",
              "          [10.141667  ]],\n",
              "\n",
              "         [[ 0.9736001 ],\n",
              "          [ 0.9736001 ],\n",
              "          [ 0.9736001 ],\n",
              "          ...,\n",
              "          [10.141667  ],\n",
              "          [10.101101  ],\n",
              "          [10.101101  ]],\n",
              "\n",
              "         [[ 0.93303347],\n",
              "          [ 0.77076674],\n",
              "          [ 0.77076674],\n",
              "          ...,\n",
              "          [10.141667  ],\n",
              "          [10.101101  ],\n",
              "          [10.101101  ]]],\n",
              "\n",
              "\n",
              "        [[[ 1.3792669 ],\n",
              "          [ 1.3792669 ],\n",
              "          [ 1.2981335 ],\n",
              "          ...,\n",
              "          [ 0.08113334],\n",
              "          [10.3445015 ],\n",
              "          [10.303934  ]],\n",
              "\n",
              "         [[ 1.3792669 ],\n",
              "          [ 1.3792669 ],\n",
              "          [ 1.2981335 ],\n",
              "          ...,\n",
              "          [ 0.04056667],\n",
              "          [10.303934  ],\n",
              "          [10.263368  ]],\n",
              "\n",
              "         [[ 1.2981335 ],\n",
              "          [ 1.2981335 ],\n",
              "          [ 1.2981335 ],\n",
              "          ...,\n",
              "          [ 0.08113334],\n",
              "          [ 0.08113334],\n",
              "          [ 0.08113334]],\n",
              "\n",
              "         ...,\n",
              "\n",
              "         [[ 1.0141668 ],\n",
              "          [ 1.0141668 ],\n",
              "          [ 0.9736001 ],\n",
              "          ...,\n",
              "          [10.182235  ],\n",
              "          [10.101101  ],\n",
              "          [10.101101  ]],\n",
              "\n",
              "         [[ 0.9736001 ],\n",
              "          [ 0.9736001 ],\n",
              "          [ 0.9736001 ],\n",
              "          ...,\n",
              "          [10.141667  ],\n",
              "          [10.101101  ],\n",
              "          [10.101101  ]],\n",
              "\n",
              "         [[ 0.93303347],\n",
              "          [ 0.77076674],\n",
              "          [ 0.77076674],\n",
              "          ...,\n",
              "          [10.141667  ],\n",
              "          [10.101101  ],\n",
              "          [10.101101  ]]],\n",
              "\n",
              "\n",
              "        ...,\n",
              "\n",
              "\n",
              "        [[[ 1.5009668 ],\n",
              "          [ 1.5009668 ],\n",
              "          [ 1.5009668 ],\n",
              "          ...,\n",
              "          [10.3445015 ],\n",
              "          [10.3445015 ],\n",
              "          [ 0.04056667]],\n",
              "\n",
              "         [[ 1.4604002 ],\n",
              "          [ 1.4604002 ],\n",
              "          [ 1.4604002 ],\n",
              "          ...,\n",
              "          [ 0.        ],\n",
              "          [ 0.04056667],\n",
              "          [ 0.20283335]],\n",
              "\n",
              "         [[ 1.2981335 ],\n",
              "          [ 1.2981335 ],\n",
              "          [ 1.2981335 ],\n",
              "          ...,\n",
              "          [ 0.04056667],\n",
              "          [ 0.04056667],\n",
              "          [ 0.04056667]],\n",
              "\n",
              "         ...,\n",
              "\n",
              "         [[ 1.0141668 ],\n",
              "          [ 1.0141668 ],\n",
              "          [ 0.9736001 ],\n",
              "          ...,\n",
              "          [10.141667  ],\n",
              "          [10.141667  ],\n",
              "          [10.141667  ]],\n",
              "\n",
              "         [[ 1.0141668 ],\n",
              "          [ 1.0141668 ],\n",
              "          [ 0.9736001 ],\n",
              "          ...,\n",
              "          [10.141667  ],\n",
              "          [10.141667  ],\n",
              "          [10.141667  ]],\n",
              "\n",
              "         [[ 1.0141668 ],\n",
              "          [ 1.0141668 ],\n",
              "          [ 0.93303347],\n",
              "          ...,\n",
              "          [10.101101  ],\n",
              "          [10.101101  ],\n",
              "          [10.101101  ]]],\n",
              "\n",
              "\n",
              "        [[[ 1.3792669 ],\n",
              "          [ 1.3792669 ],\n",
              "          [ 1.4198335 ],\n",
              "          ...,\n",
              "          [10.3445015 ],\n",
              "          [10.3445015 ],\n",
              "          [ 0.12170001]],\n",
              "\n",
              "         [[ 1.3387002 ],\n",
              "          [ 1.3387002 ],\n",
              "          [ 1.3792669 ],\n",
              "          ...,\n",
              "          [ 0.16226669],\n",
              "          [ 0.04056667],\n",
              "          [ 0.12170001]],\n",
              "\n",
              "         [[ 1.3792669 ],\n",
              "          [ 1.3387002 ],\n",
              "          [ 1.3387002 ],\n",
              "          ...,\n",
              "          [ 0.12170001],\n",
              "          [ 0.08113334],\n",
              "          [ 0.08113334]],\n",
              "\n",
              "         ...,\n",
              "\n",
              "         [[ 0.9736001 ],\n",
              "          [ 0.9736001 ],\n",
              "          [ 0.93303347],\n",
              "          ...,\n",
              "          [10.141667  ],\n",
              "          [10.141667  ],\n",
              "          [10.141667  ]],\n",
              "\n",
              "         [[ 0.9736001 ],\n",
              "          [ 0.9736001 ],\n",
              "          [ 0.93303347],\n",
              "          ...,\n",
              "          [10.141667  ],\n",
              "          [10.141667  ],\n",
              "          [10.141667  ]],\n",
              "\n",
              "         [[ 0.9736001 ],\n",
              "          [ 0.9736001 ],\n",
              "          [ 0.8924668 ],\n",
              "          ...,\n",
              "          [10.101101  ],\n",
              "          [10.101101  ],\n",
              "          [10.101101  ]]],\n",
              "\n",
              "\n",
              "        [[[ 1.3792669 ],\n",
              "          [ 1.3792669 ],\n",
              "          [ 1.4604002 ],\n",
              "          ...,\n",
              "          [10.3445015 ],\n",
              "          [10.303934  ],\n",
              "          [ 0.08113334]],\n",
              "\n",
              "         [[ 1.3387002 ],\n",
              "          [ 1.3387002 ],\n",
              "          [ 1.4198335 ],\n",
              "          ...,\n",
              "          [ 0.16226669],\n",
              "          [ 0.        ],\n",
              "          [ 0.08113334]],\n",
              "\n",
              "         [[ 1.3792669 ],\n",
              "          [ 1.3387002 ],\n",
              "          [ 1.3387002 ],\n",
              "          ...,\n",
              "          [ 0.04056667],\n",
              "          [ 0.08113334],\n",
              "          [ 0.04056667]],\n",
              "\n",
              "         ...,\n",
              "\n",
              "         [[ 1.0141668 ],\n",
              "          [ 0.9736001 ],\n",
              "          [ 0.93303347],\n",
              "          ...,\n",
              "          [10.182235  ],\n",
              "          [10.141667  ],\n",
              "          [10.141667  ]],\n",
              "\n",
              "         [[ 1.0141668 ],\n",
              "          [ 0.9736001 ],\n",
              "          [ 0.9736001 ],\n",
              "          ...,\n",
              "          [10.182235  ],\n",
              "          [10.141667  ],\n",
              "          [10.141667  ]],\n",
              "\n",
              "         [[ 0.9736001 ],\n",
              "          [ 0.9736001 ],\n",
              "          [ 0.93303347],\n",
              "          ...,\n",
              "          [10.141667  ],\n",
              "          [10.101101  ],\n",
              "          [10.101101  ]]]],\n",
              "\n",
              "\n",
              "\n",
              "       [[[[ 1.1499181 ],\n",
              "          [ 1.2292228 ],\n",
              "          [ 1.2292228 ],\n",
              "          ...,\n",
              "          [ 0.31721878],\n",
              "          [ 0.31721878],\n",
              "          [ 0.31721878]],\n",
              "\n",
              "         [[ 1.2292228 ],\n",
              "          [ 1.2292228 ],\n",
              "          [ 1.1102657 ],\n",
              "          ...,\n",
              "          [ 0.31721878],\n",
              "          [ 0.31721878],\n",
              "          [ 0.31721878]],\n",
              "\n",
              "         [[ 1.2292228 ],\n",
              "          [ 1.3481798 ],\n",
              "          [ 1.1895704 ],\n",
              "          ...,\n",
              "          [ 0.27756643],\n",
              "          [ 0.23791407],\n",
              "          [ 0.23791407]],\n",
              "\n",
              "         ...,\n",
              "\n",
              "         [[ 1.0706134 ],\n",
              "          [ 1.0706134 ],\n",
              "          [ 1.0706134 ],\n",
              "          ...,\n",
              "          [ 0.03965235],\n",
              "          [ 0.        ],\n",
              "          [ 0.        ]],\n",
              "\n",
              "         [[ 1.0706134 ],\n",
              "          [ 1.0706134 ],\n",
              "          [ 1.0706134 ],\n",
              "          ...,\n",
              "          [ 0.03965235],\n",
              "          [ 0.        ],\n",
              "          [ 0.        ]],\n",
              "\n",
              "         [[ 1.0706134 ],\n",
              "          [ 1.0706134 ],\n",
              "          [ 1.0706134 ],\n",
              "          ...,\n",
              "          [ 0.03965235],\n",
              "          [ 0.        ],\n",
              "          [ 0.        ]]],\n",
              "\n",
              "\n",
              "        [[[ 1.1499181 ],\n",
              "          [ 1.2292228 ],\n",
              "          [ 1.3085275 ],\n",
              "          ...,\n",
              "          [ 0.27756643],\n",
              "          [ 0.23791407],\n",
              "          [ 0.23791407]],\n",
              "\n",
              "         [[ 1.1895704 ],\n",
              "          [ 1.2292228 ],\n",
              "          [ 1.2688751 ],\n",
              "          ...,\n",
              "          [ 0.27756643],\n",
              "          [ 0.23791407],\n",
              "          [ 0.23791407]],\n",
              "\n",
              "         [[ 1.3085275 ],\n",
              "          [ 1.6257463 ],\n",
              "          [ 1.3481798 ],\n",
              "          ...,\n",
              "          [ 0.35687113],\n",
              "          [ 0.31721878],\n",
              "          [ 0.31721878]],\n",
              "\n",
              "         ...,\n",
              "\n",
              "         [[ 1.1895704 ],\n",
              "          [ 1.1895704 ],\n",
              "          [ 1.1499181 ],\n",
              "          ...,\n",
              "          [ 0.03965235],\n",
              "          [ 0.        ],\n",
              "          [ 0.        ]],\n",
              "\n",
              "         [[ 1.1499181 ],\n",
              "          [ 1.1499181 ],\n",
              "          [ 1.0706134 ],\n",
              "          ...,\n",
              "          [ 0.03965235],\n",
              "          [ 0.        ],\n",
              "          [ 0.        ]],\n",
              "\n",
              "         [[ 1.0706134 ],\n",
              "          [ 1.0706134 ],\n",
              "          [ 1.0706134 ],\n",
              "          ...,\n",
              "          [ 0.03965235],\n",
              "          [ 0.        ],\n",
              "          [ 0.        ]]],\n",
              "\n",
              "\n",
              "        [[[ 1.1895704 ],\n",
              "          [ 1.3085275 ],\n",
              "          [ 1.3085275 ],\n",
              "          ...,\n",
              "          [ 0.27756643],\n",
              "          [ 0.27756643],\n",
              "          [ 0.23791407]],\n",
              "\n",
              "         [[ 1.2292228 ],\n",
              "          [ 1.3085275 ],\n",
              "          [ 1.2688751 ],\n",
              "          ...,\n",
              "          [ 0.31721878],\n",
              "          [ 0.27756643],\n",
              "          [ 0.27756643]],\n",
              "\n",
              "         [[ 1.3085275 ],\n",
              "          [ 1.6653986 ],\n",
              "          [ 1.2688751 ],\n",
              "          ...,\n",
              "          [ 0.31721878],\n",
              "          [ 0.31721878],\n",
              "          [ 0.27756643]],\n",
              "\n",
              "         ...,\n",
              "\n",
              "         [[ 1.1102657 ],\n",
              "          [ 1.1102657 ],\n",
              "          [ 1.0706134 ],\n",
              "          ...,\n",
              "          [ 0.03965235],\n",
              "          [ 0.03965235],\n",
              "          [ 0.        ]],\n",
              "\n",
              "         [[ 1.0706134 ],\n",
              "          [ 1.0706134 ],\n",
              "          [ 1.0706134 ],\n",
              "          ...,\n",
              "          [ 0.03965235],\n",
              "          [ 0.03965235],\n",
              "          [ 0.        ]],\n",
              "\n",
              "         [[ 1.0706134 ],\n",
              "          [ 1.0706134 ],\n",
              "          [ 1.0706134 ],\n",
              "          ...,\n",
              "          [ 0.03965235],\n",
              "          [ 0.03965235],\n",
              "          [ 0.        ]]],\n",
              "\n",
              "\n",
              "        ...,\n",
              "\n",
              "\n",
              "        [[[ 1.3481798 ],\n",
              "          [ 1.3085275 ],\n",
              "          [ 1.2688751 ],\n",
              "          ...,\n",
              "          [ 0.31721878],\n",
              "          [ 0.31721878],\n",
              "          [ 0.27756643]],\n",
              "\n",
              "         [[ 1.1499181 ],\n",
              "          [ 1.1499181 ],\n",
              "          [ 1.2292228 ],\n",
              "          ...,\n",
              "          [ 0.31721878],\n",
              "          [ 0.31721878],\n",
              "          [ 0.27756643]],\n",
              "\n",
              "         [[ 1.3878322 ],\n",
              "          [ 1.4274845 ],\n",
              "          [ 1.1895704 ],\n",
              "          ...,\n",
              "          [ 0.27756643],\n",
              "          [ 0.27756643],\n",
              "          [ 0.19826174]],\n",
              "\n",
              "         ...,\n",
              "\n",
              "         [[ 1.030961  ],\n",
              "          [ 1.030961  ],\n",
              "          [ 1.030961  ],\n",
              "          ...,\n",
              "          [ 0.03965235],\n",
              "          [ 0.03965235],\n",
              "          [ 0.        ]],\n",
              "\n",
              "         [[ 1.030961  ],\n",
              "          [ 1.030961  ],\n",
              "          [ 1.0706134 ],\n",
              "          ...,\n",
              "          [ 0.        ],\n",
              "          [ 0.        ],\n",
              "          [ 0.        ]],\n",
              "\n",
              "         [[ 1.030961  ],\n",
              "          [ 1.030961  ],\n",
              "          [ 1.0706134 ],\n",
              "          ...,\n",
              "          [ 0.        ],\n",
              "          [ 0.        ],\n",
              "          [10.111348  ]]],\n",
              "\n",
              "\n",
              "        [[[ 1.2292228 ],\n",
              "          [ 1.3878322 ],\n",
              "          [ 1.3085275 ],\n",
              "          ...,\n",
              "          [ 0.31721878],\n",
              "          [ 0.27756643],\n",
              "          [ 0.27756643]],\n",
              "\n",
              "         [[ 1.0706134 ],\n",
              "          [ 1.2292228 ],\n",
              "          [ 1.2688751 ],\n",
              "          ...,\n",
              "          [ 0.31721878],\n",
              "          [ 0.27756643],\n",
              "          [ 0.27756643]],\n",
              "\n",
              "         [[ 1.2292228 ],\n",
              "          [ 1.3878322 ],\n",
              "          [ 1.3481798 ],\n",
              "          ...,\n",
              "          [ 0.31721878],\n",
              "          [ 0.31721878],\n",
              "          [ 0.27756643]],\n",
              "\n",
              "         ...,\n",
              "\n",
              "         [[ 1.1102657 ],\n",
              "          [ 1.1102657 ],\n",
              "          [ 1.030961  ],\n",
              "          ...,\n",
              "          [ 0.0793047 ],\n",
              "          [ 0.0793047 ],\n",
              "          [ 0.03965235]],\n",
              "\n",
              "         [[ 1.1102657 ],\n",
              "          [ 1.1102657 ],\n",
              "          [ 1.030961  ],\n",
              "          ...,\n",
              "          [ 0.03965235],\n",
              "          [ 0.03965235],\n",
              "          [ 0.03965235]],\n",
              "\n",
              "         [[ 1.1102657 ],\n",
              "          [ 1.1102657 ],\n",
              "          [ 1.030961  ],\n",
              "          ...,\n",
              "          [ 0.03965235],\n",
              "          [ 0.03965235],\n",
              "          [ 0.        ]]],\n",
              "\n",
              "\n",
              "        [[[ 1.2292228 ],\n",
              "          [ 1.3085275 ],\n",
              "          [ 1.2688751 ],\n",
              "          ...,\n",
              "          [ 0.27756643],\n",
              "          [ 0.27756643],\n",
              "          [ 0.19826174]],\n",
              "\n",
              "         [[ 1.1102657 ],\n",
              "          [ 1.1895704 ],\n",
              "          [ 1.1102657 ],\n",
              "          ...,\n",
              "          [ 0.27756643],\n",
              "          [ 0.27756643],\n",
              "          [ 0.19826174]],\n",
              "\n",
              "         [[ 1.2292228 ],\n",
              "          [ 1.3481798 ],\n",
              "          [ 1.2292228 ],\n",
              "          ...,\n",
              "          [ 0.15860939],\n",
              "          [ 0.23791407],\n",
              "          [ 0.23791407]],\n",
              "\n",
              "         ...,\n",
              "\n",
              "         [[ 1.0706134 ],\n",
              "          [ 1.0706134 ],\n",
              "          [ 1.030961  ],\n",
              "          ...,\n",
              "          [ 0.0793047 ],\n",
              "          [ 0.0793047 ],\n",
              "          [ 0.03965235]],\n",
              "\n",
              "         [[ 1.0706134 ],\n",
              "          [ 1.0706134 ],\n",
              "          [ 1.030961  ],\n",
              "          ...,\n",
              "          [ 0.03965235],\n",
              "          [ 0.03965235],\n",
              "          [ 0.03965235]],\n",
              "\n",
              "         [[ 1.0706134 ],\n",
              "          [ 1.0706134 ],\n",
              "          [ 1.030961  ],\n",
              "          ...,\n",
              "          [ 0.03965235],\n",
              "          [ 0.03965235],\n",
              "          [ 0.        ]]]]], dtype=float32)"
            ]
          },
          "metadata": {},
          "execution_count": 28
        }
      ],
      "source": [
        "val = sample.next(); val[0]"
      ]
    },
    {
      "cell_type": "code",
      "execution_count": 29,
      "id": "c33a87a2-d5e0-4ec9-b174-73ebf41bf03a",
      "metadata": {
        "tags": [],
        "id": "c33a87a2-d5e0-4ec9-b174-73ebf41bf03a",
        "outputId": "ac1db699-eec2-4e36-ab2a-cac9243f8dea",
        "colab": {
          "base_uri": "https://localhost:8080/",
          "height": 244
        }
      },
      "outputs": [
        {
          "output_type": "execute_result",
          "data": {
            "text/plain": [
              "<matplotlib.image.AxesImage at 0x7f44100896c0>"
            ]
          },
          "metadata": {},
          "execution_count": 29
        },
        {
          "output_type": "display_data",
          "data": {
            "text/plain": [
              "<Figure size 640x480 with 1 Axes>"
            ],
            "image/png": "[encoded data removed]"
          },
          "metadata": {}
        }
      ],
      "source": [
        "# 0:videos, 0: 1st video out of the batch,  0: return the first frame in the video\n",
        "plt.imshow(val[0][0][35])"
      ]
    },
    {
      "cell_type": "code",
      "execution_count": 30,
      "id": "84593332-133c-4205-b7a6-8e235d5e2b3b",
      "metadata": {
        "tags": [],
        "id": "84593332-133c-4205-b7a6-8e235d5e2b3b",
        "outputId": "2b6241b3-3e0f-4c07-e3da-b59618ded9ae",
        "colab": {
          "base_uri": "https://localhost:8080/"
        }
      },
      "outputs": [
        {
          "output_type": "execute_result",
          "data": {
            "text/plain": [
              "<tf.Tensor: shape=(), dtype=string, numpy=b'bin green with u six now'>"
            ]
          },
          "metadata": {},
          "execution_count": 30
        }
      ],
      "source": [
        "tf.strings.reduce_join([num_to_char(word) for word in val[1][0]])"
      ]
    },
    {
      "cell_type": "markdown",
      "id": "0f47733c-83bc-465c-b118-b198b492ad37",
      "metadata": {
        "tags": [],
        "id": "0f47733c-83bc-465c-b118-b198b492ad37"
      },
      "source": [
        "# 3. Design the Deep Neural Network"
      ]
    },
    {
      "cell_type": "code",
      "execution_count": 31,
      "id": "d8e9a497-191b-4842-afbd-26f5e13c43ba",
      "metadata": {
        "tags": [],
        "id": "d8e9a497-191b-4842-afbd-26f5e13c43ba"
      },
      "outputs": [],
      "source": [
        "from tensorflow.keras.models import Sequential\n",
        "from tensorflow.keras.layers import Conv3D, LSTM, Dense, Dropout, Bidirectional, MaxPool3D, Activation, Reshape, SpatialDropout3D, BatchNormalization, TimeDistributed, Flatten\n",
        "from tensorflow.keras.optimizers import Adam\n",
        "from tensorflow.keras.callbacks import ModelCheckpoint, LearningRateScheduler"
      ]
    },
    {
      "cell_type": "code",
      "execution_count": 32,
      "id": "3f753ed2-70b9-4236-8c1c-08ca065dc8bf",
      "metadata": {
        "id": "3f753ed2-70b9-4236-8c1c-08ca065dc8bf",
        "outputId": "a52c4329-85cb-450e-ca48-ba26f325367f",
        "colab": {
          "base_uri": "https://localhost:8080/"
        }
      },
      "outputs": [
        {
          "output_type": "execute_result",
          "data": {
            "text/plain": [
              "(75, 46, 140, 1)"
            ]
          },
          "metadata": {},
          "execution_count": 32
        }
      ],
      "source": [
        "data.as_numpy_iterator().next()[0][0].shape"
      ]
    },
    {
      "cell_type": "code",
      "execution_count": 33,
      "id": "f9171056-a352-491a-9ed9-92b28ced268e",
      "metadata": {
        "tags": [],
        "id": "f9171056-a352-491a-9ed9-92b28ced268e"
      },
      "outputs": [],
      "source": [
        "model = Sequential()\n",
        "model.add(Conv3D(128, 3, input_shape=(75,46,140,1), padding='same'))\n",
        "model.add(Activation('relu'))\n",
        "model.add(MaxPool3D((1,2,2)))\n",
        "\n",
        "model.add(Conv3D(256, 3, padding='same'))\n",
        "model.add(Activation('relu'))\n",
        "model.add(MaxPool3D((1,2,2)))\n",
        "\n",
        "model.add(Conv3D(75, 3, padding='same'))\n",
        "model.add(Activation('relu'))\n",
        "model.add(MaxPool3D((1,2,2)))\n",
        "\n",
        "model.add(TimeDistributed(Flatten()))\n",
        "\n",
        "model.add(Bidirectional(LSTM(128, kernel_initializer='Orthogonal', return_sequences=True)))\n",
        "model.add(Dropout(.5))\n",
        "\n",
        "model.add(Bidirectional(LSTM(128, kernel_initializer='Orthogonal', return_sequences=True)))\n",
        "model.add(Dropout(.5))\n",
        "\n",
        "model.add(Dense(char_to_num.vocabulary_size()+1, kernel_initializer='he_normal', activation='softmax'))"
      ]
    },
    {
      "cell_type": "code",
      "execution_count": 34,
      "id": "78851825-2bcd-42a9-b7f2-28bb5a6bf43a",
      "metadata": {
        "collapsed": true,
        "jupyter": {
          "outputs_hidden": true
        },
        "tags": [],
        "id": "78851825-2bcd-42a9-b7f2-28bb5a6bf43a",
        "outputId": "ffd6dffe-f55d-4c3f-f2e0-bd2b0765c401",
        "colab": {
          "base_uri": "https://localhost:8080/"
        }
      },
      "outputs": [
        {
          "output_type": "stream",
          "name": "stdout",
          "text": [
            "Model: \"sequential\"\n",
            "_________________________________________________________________\n",
            " Layer (type)                Output Shape              Param #   \n",
            "=================================================================\n",
            " conv3d (Conv3D)             (None, 75, 46, 140, 128   3584      \n",
            "                             )                                   \n",
            "                                                                 \n",
            " activation (Activation)     (None, 75, 46, 140, 128   0         \n",
            "                             )                                   \n",
            "                                                                 \n",
            " max_pooling3d (MaxPooling3  (None, 75, 23, 70, 128)   0         \n",
            " D)                                                              \n",
            "                                                                 \n",
            " conv3d_1 (Conv3D)           (None, 75, 23, 70, 256)   884992    \n",
            "                                                                 \n",
            " activation_1 (Activation)   (None, 75, 23, 70, 256)   0         \n",
            "                                                                 \n",
            " max_pooling3d_1 (MaxPoolin  (None, 75, 11, 35, 256)   0         \n",
            " g3D)                                                            \n",
            "                                                                 \n",
            " conv3d_2 (Conv3D)           (None, 75, 11, 35, 75)    518475    \n",
            "                                                                 \n",
            " activation_2 (Activation)   (None, 75, 11, 35, 75)    0         \n",
            "                                                                 \n",
            " max_pooling3d_2 (MaxPoolin  (None, 75, 5, 17, 75)     0         \n",
            " g3D)                                                            \n",
            "                                                                 \n",
            " time_distributed (TimeDist  (None, 75, 6375)          0         \n",
            " ributed)                                                        \n",
            "                                                                 \n",
            " bidirectional (Bidirection  (None, 75, 256)           6660096   \n",
            " al)                                                             \n",
            "                                                                 \n",
            " dropout (Dropout)           (None, 75, 256)           0         \n",
            "                                                                 \n",
            " bidirectional_1 (Bidirecti  (None, 75, 256)           394240    \n",
            " onal)                                                           \n",
            "                                                                 \n",
            " dropout_1 (Dropout)         (None, 75, 256)           0         \n",
            "                                                                 \n",
            " dense (Dense)               (None, 75, 41)            10537     \n",
            "                                                                 \n",
            "=================================================================\n",
            "Total params: 8471924 (32.32 MB)\n",
            "Trainable params: 8471924 (32.32 MB)\n",
            "Non-trainable params: 0 (0.00 Byte)\n",
            "_________________________________________________________________\n"
          ]
        }
      ],
      "source": [
        "model.summary()"
      ]
    },
    {
      "cell_type": "code",
      "execution_count": 35,
      "id": "f4b4798c-a65a-4c47-9e2a-3b09dc98d320",
      "metadata": {
        "id": "f4b4798c-a65a-4c47-9e2a-3b09dc98d320",
        "colab": {
          "base_uri": "https://localhost:8080/"
        },
        "outputId": "b08bdacc-02f7-441f-d26d-78417ee5f5a4"
      },
      "outputs": [
        {
          "output_type": "execute_result",
          "data": {
            "text/plain": [
              "6375"
            ]
          },
          "metadata": {},
          "execution_count": 35
        }
      ],
      "source": [
        "5*17*75"
      ]
    },
    {
      "cell_type": "code",
      "execution_count": 36,
      "id": "e5c2eae0-c359-41a4-97a0-75c44dccb7d1",
      "metadata": {
        "tags": [],
        "id": "e5c2eae0-c359-41a4-97a0-75c44dccb7d1",
        "outputId": "d7c66d22-5edc-4d62-d1db-9abf7777879b",
        "colab": {
          "base_uri": "https://localhost:8080/"
        }
      },
      "outputs": [
        {
          "output_type": "stream",
          "name": "stdout",
          "text": [
            "1/1 [==============================] - 3s 3s/step\n"
          ]
        }
      ],
      "source": [
        "yhat = model.predict(val[0])"
      ]
    },
    {
      "cell_type": "code",
      "execution_count": 37,
      "id": "ffdc7319-0d69-4f7e-a6d4-ce72deb81c0b",
      "metadata": {
        "id": "ffdc7319-0d69-4f7e-a6d4-ce72deb81c0b",
        "outputId": "e4ff48b2-fe8f-4144-a093-e287dcc2db4d",
        "colab": {
          "base_uri": "https://localhost:8080/"
        }
      },
      "outputs": [
        {
          "output_type": "execute_result",
          "data": {
            "text/plain": [
              "<tf.Tensor: shape=(), dtype=string, numpy=b'22???3333333333333333323333222333333332222222233333332222222222222222ppppp7'>"
            ]
          },
          "metadata": {},
          "execution_count": 37
        }
      ],
      "source": [
        "tf.strings.reduce_join([num_to_char(x) for x in tf.argmax(yhat[0],axis=1)])"
      ]
    },
    {
      "cell_type": "code",
      "execution_count": 38,
      "id": "6ed47531-8317-4255-9a12-b757642258e6",
      "metadata": {
        "tags": [],
        "id": "6ed47531-8317-4255-9a12-b757642258e6",
        "outputId": "f2dd5976-3bf5-47f0-c658-daf92072f2f5",
        "colab": {
          "base_uri": "https://localhost:8080/"
        }
      },
      "outputs": [
        {
          "output_type": "execute_result",
          "data": {
            "text/plain": [
              "<tf.Tensor: shape=(), dtype=string, numpy=b'22???3333333333333333323333222333333332222222233333332222222222222222ppppp7'>"
            ]
          },
          "metadata": {},
          "execution_count": 38
        }
      ],
      "source": [
        "tf.strings.reduce_join([num_to_char(tf.argmax(x)) for x in yhat[0]])"
      ]
    },
    {
      "cell_type": "code",
      "execution_count": 39,
      "id": "7c37b9b9-5298-4038-9c33-5031d1b457f0",
      "metadata": {
        "tags": [],
        "id": "7c37b9b9-5298-4038-9c33-5031d1b457f0",
        "outputId": "2e7b1f7e-530e-4e43-c687-321e49e695e5",
        "colab": {
          "base_uri": "https://localhost:8080/"
        }
      },
      "outputs": [
        {
          "output_type": "execute_result",
          "data": {
            "text/plain": [
              "(None, 75, 46, 140, 1)"
            ]
          },
          "metadata": {},
          "execution_count": 39
        }
      ],
      "source": [
        "model.input_shape"
      ]
    },
    {
      "cell_type": "code",
      "execution_count": 40,
      "id": "98b316a4-5322-4782-8e36-4b3c1a696d85",
      "metadata": {
        "tags": [],
        "id": "98b316a4-5322-4782-8e36-4b3c1a696d85",
        "outputId": "d0ec3dc9-8026-4993-e1e0-4ce32ada755e",
        "colab": {
          "base_uri": "https://localhost:8080/"
        }
      },
      "outputs": [
        {
          "output_type": "execute_result",
          "data": {
            "text/plain": [
              "(None, 75, 41)"
            ]
          },
          "metadata": {},
          "execution_count": 40
        }
      ],
      "source": [
        "model.output_shape"
      ]
    },
    {
      "cell_type": "markdown",
      "id": "2ec02176-5c26-46c3-aff7-8352e6563c7d",
      "metadata": {
        "tags": [],
        "id": "2ec02176-5c26-46c3-aff7-8352e6563c7d"
      },
      "source": [
        "# 4. Setup Training Options and Train"
      ]
    },
    {
      "cell_type": "code",
      "execution_count": 41,
      "id": "ab015fd0-7fb4-4d5d-9fa2-30a05dbd515a",
      "metadata": {
        "tags": [],
        "id": "ab015fd0-7fb4-4d5d-9fa2-30a05dbd515a"
      },
      "outputs": [],
      "source": [
        "def scheduler(epoch, lr):\n",
        "    if epoch < 30:\n",
        "        return lr\n",
        "    else:\n",
        "        return lr * tf.math.exp(-0.1)"
      ]
    },
    {
      "cell_type": "code",
      "execution_count": 42,
      "id": "c564d5c9-db54-4e88-b311-9aeab7fb3e69",
      "metadata": {
        "tags": [],
        "id": "c564d5c9-db54-4e88-b311-9aeab7fb3e69"
      },
      "outputs": [],
      "source": [
        "def CTCLoss(y_true, y_pred):\n",
        "    batch_len = tf.cast(tf.shape(y_true)[0], dtype=\"int64\")\n",
        "    input_length = tf.cast(tf.shape(y_pred)[1], dtype=\"int64\")\n",
        "    label_length = tf.cast(tf.shape(y_true)[1], dtype=\"int64\")\n",
        "\n",
        "    input_length = input_length * tf.ones(shape=(batch_len, 1), dtype=\"int64\")\n",
        "    label_length = label_length * tf.ones(shape=(batch_len, 1), dtype=\"int64\")\n",
        "\n",
        "    loss = tf.keras.backend.ctc_batch_cost(y_true, y_pred, input_length, label_length)\n",
        "    return loss"
      ]
    },
    {
      "cell_type": "code",
      "execution_count": 43,
      "id": "a26dc3fc-a19c-4378-bd8c-e2b597a1d15c",
      "metadata": {
        "tags": [],
        "id": "a26dc3fc-a19c-4378-bd8c-e2b597a1d15c"
      },
      "outputs": [],
      "source": [
        "class ProduceExample(tf.keras.callbacks.Callback):\n",
        "    def __init__(self, dataset) -> None:\n",
        "        self.dataset = dataset.as_numpy_iterator()\n",
        "\n",
        "    def on_epoch_end(self, epoch, logs=None) -> None:\n",
        "        data = self.dataset.next()\n",
        "        yhat = self.model.predict(data[0])\n",
        "        decoded = tf.keras.backend.ctc_decode(yhat, [75,75], greedy=False)[0][0].numpy()\n",
        "        for x in range(len(yhat)):\n",
        "            print('Original:', tf.strings.reduce_join(num_to_char(data[1][x])).numpy().decode('utf-8'))\n",
        "            print('Prediction:', tf.strings.reduce_join(num_to_char(decoded[x])).numpy().decode('utf-8'))\n",
        "            print('~'*100)"
      ]
    },
    {
      "cell_type": "code",
      "execution_count": 44,
      "id": "04be90d8-2482-46f9-b513-d5f4f8001c7e",
      "metadata": {
        "tags": [],
        "id": "04be90d8-2482-46f9-b513-d5f4f8001c7e"
      },
      "outputs": [],
      "source": [
        "model.compile(optimizer=Adam(learning_rate=0.0001), loss=CTCLoss)"
      ]
    },
    {
      "cell_type": "code",
      "execution_count": 45,
      "id": "eab49367-3f1e-4464-ae76-dbd07549d97e",
      "metadata": {
        "tags": [],
        "id": "eab49367-3f1e-4464-ae76-dbd07549d97e"
      },
      "outputs": [],
      "source": [
        "checkpoint_callback = ModelCheckpoint(os.path.join('models','checkpoint'), monitor='loss', save_weights_only=True)"
      ]
    },
    {
      "cell_type": "code",
      "execution_count": 46,
      "id": "e085a632-d464-46ef-8777-959cad4adb2c",
      "metadata": {
        "tags": [],
        "id": "e085a632-d464-46ef-8777-959cad4adb2c"
      },
      "outputs": [],
      "source": [
        "schedule_callback = LearningRateScheduler(scheduler)"
      ]
    },
    {
      "cell_type": "code",
      "execution_count": 47,
      "id": "48eca991-90ab-4592-8a79-b50e9ca015b6",
      "metadata": {
        "tags": [],
        "id": "48eca991-90ab-4592-8a79-b50e9ca015b6"
      },
      "outputs": [],
      "source": [
        "example_callback = ProduceExample(test)"
      ]
    },
    {
      "cell_type": "code",
      "execution_count": 49,
      "id": "8ffba483-aa61-4bbe-a15f-a73e1ddf097c",
      "metadata": {
        "tags": [],
        "id": "8ffba483-aa61-4bbe-a15f-a73e1ddf097c",
        "outputId": "41cfe659-cacb-4915-f694-a637b1b86f09",
        "colab": {
          "base_uri": "https://localhost:8080/"
        }
      },
      "outputs": [
        {
          "output_type": "stream",
          "name": "stdout",
          "text": [
            "Epoch 1/30\n",
            "1/1 [==============================] - 0s 84ms/step\n",
            "Original: lay blue in x five soon\n",
            "Prediction: sen blue it e son\n",
            "~~~~~~~~~~~~~~~~~~~~~~~~~~~~~~~~~~~~~~~~~~~~~~~~~~~~~~~~~~~~~~~~~~~~~~~~~~~~~~~~~~~~~~~~~~~~~~~~~~~~\n",
            "Original: place green in k one again\n",
            "Prediction: place gre it e again\n",
            "~~~~~~~~~~~~~~~~~~~~~~~~~~~~~~~~~~~~~~~~~~~~~~~~~~~~~~~~~~~~~~~~~~~~~~~~~~~~~~~~~~~~~~~~~~~~~~~~~~~~\n",
            "450/450 [==============================] - 482s 1s/step - loss: 30.3860 - val_loss: 24.9324 - lr: 1.0000e-04\n",
            "Epoch 2/30\n",
            "1/1 [==============================] - 0s 83ms/step\n",
            "Original: bin blue at s zero now\n",
            "Prediction: bin blue at io now\n",
            "~~~~~~~~~~~~~~~~~~~~~~~~~~~~~~~~~~~~~~~~~~~~~~~~~~~~~~~~~~~~~~~~~~~~~~~~~~~~~~~~~~~~~~~~~~~~~~~~~~~~\n",
            "Original: lay white at f one again\n",
            "Prediction: sit white it ie again\n",
            "~~~~~~~~~~~~~~~~~~~~~~~~~~~~~~~~~~~~~~~~~~~~~~~~~~~~~~~~~~~~~~~~~~~~~~~~~~~~~~~~~~~~~~~~~~~~~~~~~~~~\n",
            "450/450 [==============================] - 487s 1s/step - loss: 27.8902 - val_loss: 22.3849 - lr: 1.0000e-04\n",
            "Epoch 3/30\n",
            "1/1 [==============================] - 0s 81ms/step\n",
            "Original: place white in j three soon\n",
            "Prediction: place whie it ire son\n",
            "~~~~~~~~~~~~~~~~~~~~~~~~~~~~~~~~~~~~~~~~~~~~~~~~~~~~~~~~~~~~~~~~~~~~~~~~~~~~~~~~~~~~~~~~~~~~~~~~~~~~\n",
            "Original: lay white by s zero now\n",
            "Prediction: lay white by eo now\n",
            "~~~~~~~~~~~~~~~~~~~~~~~~~~~~~~~~~~~~~~~~~~~~~~~~~~~~~~~~~~~~~~~~~~~~~~~~~~~~~~~~~~~~~~~~~~~~~~~~~~~~\n",
            "450/450 [==============================] - 484s 1s/step - loss: 25.8726 - val_loss: 20.9181 - lr: 1.0000e-04\n",
            "Epoch 4/30\n",
            "1/1 [==============================] - 0s 84ms/step\n",
            "Original: bin green by u four please\n",
            "Prediction: bin gre by fo please\n",
            "~~~~~~~~~~~~~~~~~~~~~~~~~~~~~~~~~~~~~~~~~~~~~~~~~~~~~~~~~~~~~~~~~~~~~~~~~~~~~~~~~~~~~~~~~~~~~~~~~~~~\n",
            "Original: bin red by a one again\n",
            "Prediction: bin red by ne again\n",
            "~~~~~~~~~~~~~~~~~~~~~~~~~~~~~~~~~~~~~~~~~~~~~~~~~~~~~~~~~~~~~~~~~~~~~~~~~~~~~~~~~~~~~~~~~~~~~~~~~~~~\n",
            "450/450 [==============================] - 479s 1s/step - loss: 23.5917 - val_loss: 18.1008 - lr: 1.0000e-04\n",
            "Epoch 5/30\n",
            "1/1 [==============================] - 0s 82ms/step\n",
            "Original: bin blue at z six please\n",
            "Prediction: bin blue at six please\n",
            "~~~~~~~~~~~~~~~~~~~~~~~~~~~~~~~~~~~~~~~~~~~~~~~~~~~~~~~~~~~~~~~~~~~~~~~~~~~~~~~~~~~~~~~~~~~~~~~~~~~~\n",
            "Original: lay green in l four now\n",
            "Prediction: lay gren an for now\n",
            "~~~~~~~~~~~~~~~~~~~~~~~~~~~~~~~~~~~~~~~~~~~~~~~~~~~~~~~~~~~~~~~~~~~~~~~~~~~~~~~~~~~~~~~~~~~~~~~~~~~~\n",
            "450/450 [==============================] - 480s 1s/step - loss: 21.8018 - val_loss: 16.4809 - lr: 1.0000e-04\n",
            "Epoch 6/30\n",
            "1/1 [==============================] - 0s 88ms/step\n",
            "Original: lay blue in d five again\n",
            "Prediction: lay blue in five again\n",
            "~~~~~~~~~~~~~~~~~~~~~~~~~~~~~~~~~~~~~~~~~~~~~~~~~~~~~~~~~~~~~~~~~~~~~~~~~~~~~~~~~~~~~~~~~~~~~~~~~~~~\n",
            "Original: bin white with u zero now\n",
            "Prediction: bin white with eo now\n",
            "~~~~~~~~~~~~~~~~~~~~~~~~~~~~~~~~~~~~~~~~~~~~~~~~~~~~~~~~~~~~~~~~~~~~~~~~~~~~~~~~~~~~~~~~~~~~~~~~~~~~\n",
            "450/450 [==============================] - 486s 1s/step - loss: 20.0541 - val_loss: 14.6885 - lr: 1.0000e-04\n",
            "Epoch 7/30\n",
            "1/1 [==============================] - 0s 84ms/step\n",
            "Original: place red with q four please\n",
            "Prediction: place red with fou please\n",
            "~~~~~~~~~~~~~~~~~~~~~~~~~~~~~~~~~~~~~~~~~~~~~~~~~~~~~~~~~~~~~~~~~~~~~~~~~~~~~~~~~~~~~~~~~~~~~~~~~~~~\n",
            "Original: bin green by h five soon\n",
            "Prediction: bin gren by ive son\n",
            "~~~~~~~~~~~~~~~~~~~~~~~~~~~~~~~~~~~~~~~~~~~~~~~~~~~~~~~~~~~~~~~~~~~~~~~~~~~~~~~~~~~~~~~~~~~~~~~~~~~~\n",
            "450/450 [==============================] - 483s 1s/step - loss: 18.3294 - val_loss: 13.3074 - lr: 1.0000e-04\n",
            "Epoch 8/30\n",
            "1/1 [==============================] - 0s 81ms/step\n",
            "Original: bin green at h two please\n",
            "Prediction: bin gren at o please\n",
            "~~~~~~~~~~~~~~~~~~~~~~~~~~~~~~~~~~~~~~~~~~~~~~~~~~~~~~~~~~~~~~~~~~~~~~~~~~~~~~~~~~~~~~~~~~~~~~~~~~~~\n",
            "Original: place white by d six now\n",
            "Prediction: place white by six now\n",
            "~~~~~~~~~~~~~~~~~~~~~~~~~~~~~~~~~~~~~~~~~~~~~~~~~~~~~~~~~~~~~~~~~~~~~~~~~~~~~~~~~~~~~~~~~~~~~~~~~~~~\n",
            "450/450 [==============================] - 483s 1s/step - loss: 16.9178 - val_loss: 12.1649 - lr: 1.0000e-04\n",
            "Epoch 9/30\n",
            "1/1 [==============================] - 0s 87ms/step\n",
            "Original: bin white at t five again\n",
            "Prediction: bin white at five again\n",
            "~~~~~~~~~~~~~~~~~~~~~~~~~~~~~~~~~~~~~~~~~~~~~~~~~~~~~~~~~~~~~~~~~~~~~~~~~~~~~~~~~~~~~~~~~~~~~~~~~~~~\n",
            "Original: lay red with f three again\n",
            "Prediction: lay red with thre again\n",
            "~~~~~~~~~~~~~~~~~~~~~~~~~~~~~~~~~~~~~~~~~~~~~~~~~~~~~~~~~~~~~~~~~~~~~~~~~~~~~~~~~~~~~~~~~~~~~~~~~~~~\n",
            "450/450 [==============================] - 480s 1s/step - loss: 15.8251 - val_loss: 11.5367 - lr: 1.0000e-04\n",
            "Epoch 10/30\n",
            "1/1 [==============================] - 0s 82ms/step\n",
            "Original: lay blue at d six now\n",
            "Prediction: lay blue at six now\n",
            "~~~~~~~~~~~~~~~~~~~~~~~~~~~~~~~~~~~~~~~~~~~~~~~~~~~~~~~~~~~~~~~~~~~~~~~~~~~~~~~~~~~~~~~~~~~~~~~~~~~~\n",
            "Original: bin green by b one soon\n",
            "Prediction: bin gren by ne son\n",
            "~~~~~~~~~~~~~~~~~~~~~~~~~~~~~~~~~~~~~~~~~~~~~~~~~~~~~~~~~~~~~~~~~~~~~~~~~~~~~~~~~~~~~~~~~~~~~~~~~~~~\n",
            "450/450 [==============================] - 481s 1s/step - loss: 14.6382 - val_loss: 11.1920 - lr: 1.0000e-04\n",
            "Epoch 11/30\n",
            "1/1 [==============================] - 0s 82ms/step\n",
            "Original: set green at p zero now\n",
            "Prediction: set gren at zer now\n",
            "~~~~~~~~~~~~~~~~~~~~~~~~~~~~~~~~~~~~~~~~~~~~~~~~~~~~~~~~~~~~~~~~~~~~~~~~~~~~~~~~~~~~~~~~~~~~~~~~~~~~\n",
            "Original: lay blue with r three soon\n",
            "Prediction: lay blue with tre son\n",
            "~~~~~~~~~~~~~~~~~~~~~~~~~~~~~~~~~~~~~~~~~~~~~~~~~~~~~~~~~~~~~~~~~~~~~~~~~~~~~~~~~~~~~~~~~~~~~~~~~~~~\n",
            "450/450 [==============================] - 481s 1s/step - loss: 13.6464 - val_loss: 9.7006 - lr: 1.0000e-04\n",
            "Epoch 12/30\n",
            "1/1 [==============================] - 0s 83ms/step\n",
            "Original: place green with z zero please\n",
            "Prediction: place gren with zr please\n",
            "~~~~~~~~~~~~~~~~~~~~~~~~~~~~~~~~~~~~~~~~~~~~~~~~~~~~~~~~~~~~~~~~~~~~~~~~~~~~~~~~~~~~~~~~~~~~~~~~~~~~\n",
            "Original: lay blue by k seven again\n",
            "Prediction: lay blue by seve again\n",
            "~~~~~~~~~~~~~~~~~~~~~~~~~~~~~~~~~~~~~~~~~~~~~~~~~~~~~~~~~~~~~~~~~~~~~~~~~~~~~~~~~~~~~~~~~~~~~~~~~~~~\n",
            "450/450 [==============================] - 481s 1s/step - loss: 12.8584 - val_loss: 9.0538 - lr: 1.0000e-04\n",
            "Epoch 13/30\n",
            "1/1 [==============================] - 0s 84ms/step\n",
            "Original: bin white in g one soon\n",
            "Prediction: bin white in one son\n",
            "~~~~~~~~~~~~~~~~~~~~~~~~~~~~~~~~~~~~~~~~~~~~~~~~~~~~~~~~~~~~~~~~~~~~~~~~~~~~~~~~~~~~~~~~~~~~~~~~~~~~\n",
            "Original: bin white in g zero now\n",
            "Prediction: bin white in zero now\n",
            "~~~~~~~~~~~~~~~~~~~~~~~~~~~~~~~~~~~~~~~~~~~~~~~~~~~~~~~~~~~~~~~~~~~~~~~~~~~~~~~~~~~~~~~~~~~~~~~~~~~~\n",
            "450/450 [==============================] - 481s 1s/step - loss: 12.0700 - val_loss: 8.1680 - lr: 1.0000e-04\n",
            "Epoch 14/30\n",
            "1/1 [==============================] - 0s 90ms/step\n",
            "Original: bin green in t four now\n",
            "Prediction: bin gren in fur now\n",
            "~~~~~~~~~~~~~~~~~~~~~~~~~~~~~~~~~~~~~~~~~~~~~~~~~~~~~~~~~~~~~~~~~~~~~~~~~~~~~~~~~~~~~~~~~~~~~~~~~~~~\n",
            "Original: lay blue with y six now\n",
            "Prediction: lay blue with six now\n",
            "~~~~~~~~~~~~~~~~~~~~~~~~~~~~~~~~~~~~~~~~~~~~~~~~~~~~~~~~~~~~~~~~~~~~~~~~~~~~~~~~~~~~~~~~~~~~~~~~~~~~\n",
            "450/450 [==============================] - 478s 1s/step - loss: 11.2968 - val_loss: 7.5401 - lr: 1.0000e-04\n",
            "Epoch 15/30\n",
            "1/1 [==============================] - 0s 84ms/step\n",
            "Original: set blue at h one again\n",
            "Prediction: set blue at one aon\n",
            "~~~~~~~~~~~~~~~~~~~~~~~~~~~~~~~~~~~~~~~~~~~~~~~~~~~~~~~~~~~~~~~~~~~~~~~~~~~~~~~~~~~~~~~~~~~~~~~~~~~~\n",
            "Original: bin white with n nine again\n",
            "Prediction: bin white with ne again\n",
            "~~~~~~~~~~~~~~~~~~~~~~~~~~~~~~~~~~~~~~~~~~~~~~~~~~~~~~~~~~~~~~~~~~~~~~~~~~~~~~~~~~~~~~~~~~~~~~~~~~~~\n",
            "450/450 [==============================] - 481s 1s/step - loss: 10.4824 - val_loss: 7.2865 - lr: 1.0000e-04\n",
            "Epoch 16/30\n",
            "1/1 [==============================] - 0s 84ms/step\n",
            "Original: set red at n eight now\n",
            "Prediction: set red at ight now\n",
            "~~~~~~~~~~~~~~~~~~~~~~~~~~~~~~~~~~~~~~~~~~~~~~~~~~~~~~~~~~~~~~~~~~~~~~~~~~~~~~~~~~~~~~~~~~~~~~~~~~~~\n",
            "Original: lay white by z six please\n",
            "Prediction: lay white by six please\n",
            "~~~~~~~~~~~~~~~~~~~~~~~~~~~~~~~~~~~~~~~~~~~~~~~~~~~~~~~~~~~~~~~~~~~~~~~~~~~~~~~~~~~~~~~~~~~~~~~~~~~~\n",
            "450/450 [==============================] - 480s 1s/step - loss: 10.1534 - val_loss: 7.2004 - lr: 1.0000e-04\n",
            "Epoch 17/30\n",
            "1/1 [==============================] - 0s 83ms/step\n",
            "Original: set white at i two please\n",
            "Prediction: set white at two please\n",
            "~~~~~~~~~~~~~~~~~~~~~~~~~~~~~~~~~~~~~~~~~~~~~~~~~~~~~~~~~~~~~~~~~~~~~~~~~~~~~~~~~~~~~~~~~~~~~~~~~~~~\n",
            "Original: lay blue by e three again\n",
            "Prediction: lay blue by thre again\n",
            "~~~~~~~~~~~~~~~~~~~~~~~~~~~~~~~~~~~~~~~~~~~~~~~~~~~~~~~~~~~~~~~~~~~~~~~~~~~~~~~~~~~~~~~~~~~~~~~~~~~~\n",
            "450/450 [==============================] - 480s 1s/step - loss: 9.3633 - val_loss: 5.9922 - lr: 1.0000e-04\n",
            "Epoch 18/30\n",
            "1/1 [==============================] - 0s 84ms/step\n",
            "Original: bin white by t six now\n",
            "Prediction: bin white by six now\n",
            "~~~~~~~~~~~~~~~~~~~~~~~~~~~~~~~~~~~~~~~~~~~~~~~~~~~~~~~~~~~~~~~~~~~~~~~~~~~~~~~~~~~~~~~~~~~~~~~~~~~~\n",
            "Original: place red at sp p six please\n",
            "Prediction: place red at p six please\n",
            "~~~~~~~~~~~~~~~~~~~~~~~~~~~~~~~~~~~~~~~~~~~~~~~~~~~~~~~~~~~~~~~~~~~~~~~~~~~~~~~~~~~~~~~~~~~~~~~~~~~~\n",
            "450/450 [==============================] - 483s 1s/step - loss: 8.6709 - val_loss: 5.5548 - lr: 1.0000e-04\n",
            "Epoch 19/30\n",
            "1/1 [==============================] - 0s 85ms/step\n",
            "Original: place blue by v nine again\n",
            "Prediction: place blue by nine again\n",
            "~~~~~~~~~~~~~~~~~~~~~~~~~~~~~~~~~~~~~~~~~~~~~~~~~~~~~~~~~~~~~~~~~~~~~~~~~~~~~~~~~~~~~~~~~~~~~~~~~~~~\n",
            "Original: bin red in l nine soon\n",
            "Prediction: bin red in nine son\n",
            "~~~~~~~~~~~~~~~~~~~~~~~~~~~~~~~~~~~~~~~~~~~~~~~~~~~~~~~~~~~~~~~~~~~~~~~~~~~~~~~~~~~~~~~~~~~~~~~~~~~~\n",
            "450/450 [==============================] - 480s 1s/step - loss: 8.3419 - val_loss: 5.3698 - lr: 1.0000e-04\n",
            "Epoch 20/30\n",
            "1/1 [==============================] - 0s 84ms/step\n",
            "Original: lay red with r eight now\n",
            "Prediction: lay red with eight now\n",
            "~~~~~~~~~~~~~~~~~~~~~~~~~~~~~~~~~~~~~~~~~~~~~~~~~~~~~~~~~~~~~~~~~~~~~~~~~~~~~~~~~~~~~~~~~~~~~~~~~~~~\n",
            "Original: place blue at c two please\n",
            "Prediction: place blue at two please\n",
            "~~~~~~~~~~~~~~~~~~~~~~~~~~~~~~~~~~~~~~~~~~~~~~~~~~~~~~~~~~~~~~~~~~~~~~~~~~~~~~~~~~~~~~~~~~~~~~~~~~~~\n",
            "450/450 [==============================] - 484s 1s/step - loss: 7.8463 - val_loss: 4.7239 - lr: 1.0000e-04\n",
            "Epoch 21/30\n",
            "1/1 [==============================] - 0s 84ms/step\n",
            "Original: place white at q one soon\n",
            "Prediction: place white at one son\n",
            "~~~~~~~~~~~~~~~~~~~~~~~~~~~~~~~~~~~~~~~~~~~~~~~~~~~~~~~~~~~~~~~~~~~~~~~~~~~~~~~~~~~~~~~~~~~~~~~~~~~~\n",
            "Original: lay blue in d two now\n",
            "Prediction: lay blue in two now\n",
            "~~~~~~~~~~~~~~~~~~~~~~~~~~~~~~~~~~~~~~~~~~~~~~~~~~~~~~~~~~~~~~~~~~~~~~~~~~~~~~~~~~~~~~~~~~~~~~~~~~~~\n",
            "450/450 [==============================] - 488s 1s/step - loss: 7.3278 - val_loss: 4.2501 - lr: 1.0000e-04\n",
            "Epoch 22/30\n",
            "1/1 [==============================] - 0s 85ms/step\n",
            "Original: place green at q seven soon\n",
            "Prediction: place gren at seven son\n",
            "~~~~~~~~~~~~~~~~~~~~~~~~~~~~~~~~~~~~~~~~~~~~~~~~~~~~~~~~~~~~~~~~~~~~~~~~~~~~~~~~~~~~~~~~~~~~~~~~~~~~\n",
            "Original: place red with x six now\n",
            "Prediction: place red with six now\n",
            "~~~~~~~~~~~~~~~~~~~~~~~~~~~~~~~~~~~~~~~~~~~~~~~~~~~~~~~~~~~~~~~~~~~~~~~~~~~~~~~~~~~~~~~~~~~~~~~~~~~~\n",
            "450/450 [==============================] - 488s 1s/step - loss: 6.9759 - val_loss: 4.6254 - lr: 1.0000e-04\n",
            "Epoch 23/30\n",
            "1/1 [==============================] - 0s 83ms/step\n",
            "Original: bin red at f nine soon\n",
            "Prediction: bin red at f nine son\n",
            "~~~~~~~~~~~~~~~~~~~~~~~~~~~~~~~~~~~~~~~~~~~~~~~~~~~~~~~~~~~~~~~~~~~~~~~~~~~~~~~~~~~~~~~~~~~~~~~~~~~~\n",
            "Original: set white in h eight please\n",
            "Prediction: set white in h eight please\n",
            "~~~~~~~~~~~~~~~~~~~~~~~~~~~~~~~~~~~~~~~~~~~~~~~~~~~~~~~~~~~~~~~~~~~~~~~~~~~~~~~~~~~~~~~~~~~~~~~~~~~~\n",
            "450/450 [==============================] - 489s 1s/step - loss: 6.3776 - val_loss: 3.7413 - lr: 1.0000e-04\n",
            "Epoch 24/30\n",
            "1/1 [==============================] - 0s 83ms/step\n",
            "Original: bin white by g eight now\n",
            "Prediction: bin white by g eight now\n",
            "~~~~~~~~~~~~~~~~~~~~~~~~~~~~~~~~~~~~~~~~~~~~~~~~~~~~~~~~~~~~~~~~~~~~~~~~~~~~~~~~~~~~~~~~~~~~~~~~~~~~\n",
            "Original: set white at o six please\n",
            "Prediction: set white at six please\n",
            "~~~~~~~~~~~~~~~~~~~~~~~~~~~~~~~~~~~~~~~~~~~~~~~~~~~~~~~~~~~~~~~~~~~~~~~~~~~~~~~~~~~~~~~~~~~~~~~~~~~~\n",
            "450/450 [==============================] - 483s 1s/step - loss: 6.2517 - val_loss: 3.5828 - lr: 1.0000e-04\n",
            "Epoch 25/30\n",
            "1/1 [==============================] - 0s 82ms/step\n",
            "Original: place red at c seven soon\n",
            "Prediction: place red at c seven son\n",
            "~~~~~~~~~~~~~~~~~~~~~~~~~~~~~~~~~~~~~~~~~~~~~~~~~~~~~~~~~~~~~~~~~~~~~~~~~~~~~~~~~~~~~~~~~~~~~~~~~~~~\n",
            "Original: bin green with o three soon\n",
            "Prediction: bin gren with thre son\n",
            "~~~~~~~~~~~~~~~~~~~~~~~~~~~~~~~~~~~~~~~~~~~~~~~~~~~~~~~~~~~~~~~~~~~~~~~~~~~~~~~~~~~~~~~~~~~~~~~~~~~~\n",
            "450/450 [==============================] - 481s 1s/step - loss: 5.7480 - val_loss: 3.1321 - lr: 1.0000e-04\n",
            "Epoch 26/30\n",
            "1/1 [==============================] - 0s 91ms/step\n",
            "Original: set blue with o three again\n",
            "Prediction: set blue with thre again\n",
            "~~~~~~~~~~~~~~~~~~~~~~~~~~~~~~~~~~~~~~~~~~~~~~~~~~~~~~~~~~~~~~~~~~~~~~~~~~~~~~~~~~~~~~~~~~~~~~~~~~~~\n",
            "Original: lay blue at q four now\n",
            "Prediction: lay blue at q four now\n",
            "~~~~~~~~~~~~~~~~~~~~~~~~~~~~~~~~~~~~~~~~~~~~~~~~~~~~~~~~~~~~~~~~~~~~~~~~~~~~~~~~~~~~~~~~~~~~~~~~~~~~\n",
            "450/450 [==============================] - 482s 1s/step - loss: 5.3019 - val_loss: 2.5862 - lr: 1.0000e-04\n",
            "Epoch 27/30\n",
            "1/1 [==============================] - 0s 82ms/step\n",
            "Original: bin red with a three soon\n",
            "Prediction: bin red wit a thre son\n",
            "~~~~~~~~~~~~~~~~~~~~~~~~~~~~~~~~~~~~~~~~~~~~~~~~~~~~~~~~~~~~~~~~~~~~~~~~~~~~~~~~~~~~~~~~~~~~~~~~~~~~\n",
            "Original: set white at i one soon\n",
            "Prediction: set white at i one son\n",
            "~~~~~~~~~~~~~~~~~~~~~~~~~~~~~~~~~~~~~~~~~~~~~~~~~~~~~~~~~~~~~~~~~~~~~~~~~~~~~~~~~~~~~~~~~~~~~~~~~~~~\n",
            "450/450 [==============================] - 481s 1s/step - loss: 5.0288 - val_loss: 2.7035 - lr: 1.0000e-04\n",
            "Epoch 28/30\n",
            "1/1 [==============================] - 0s 84ms/step\n",
            "Original: lay blue in x four now\n",
            "Prediction: lay blue in x four now\n",
            "~~~~~~~~~~~~~~~~~~~~~~~~~~~~~~~~~~~~~~~~~~~~~~~~~~~~~~~~~~~~~~~~~~~~~~~~~~~~~~~~~~~~~~~~~~~~~~~~~~~~\n",
            "Original: set red by o five again\n",
            "Prediction: set red by o five again\n",
            "~~~~~~~~~~~~~~~~~~~~~~~~~~~~~~~~~~~~~~~~~~~~~~~~~~~~~~~~~~~~~~~~~~~~~~~~~~~~~~~~~~~~~~~~~~~~~~~~~~~~\n",
            "450/450 [==============================] - 480s 1s/step - loss: 4.9174 - val_loss: 2.4830 - lr: 1.0000e-04\n",
            "Epoch 29/30\n",
            "1/1 [==============================] - 0s 80ms/step\n",
            "Original: set blue in a two please\n",
            "Prediction: set blue in a two please\n",
            "~~~~~~~~~~~~~~~~~~~~~~~~~~~~~~~~~~~~~~~~~~~~~~~~~~~~~~~~~~~~~~~~~~~~~~~~~~~~~~~~~~~~~~~~~~~~~~~~~~~~\n",
            "Original: bin white by h zero please\n",
            "Prediction: bin white by h zero please\n",
            "~~~~~~~~~~~~~~~~~~~~~~~~~~~~~~~~~~~~~~~~~~~~~~~~~~~~~~~~~~~~~~~~~~~~~~~~~~~~~~~~~~~~~~~~~~~~~~~~~~~~\n",
            "450/450 [==============================] - 488s 1s/step - loss: 4.6022 - val_loss: 2.2052 - lr: 1.0000e-04\n",
            "Epoch 30/30\n",
            "1/1 [==============================] - 0s 80ms/step\n",
            "Original: set red at u three soon\n",
            "Prediction: set red at u thre son\n",
            "~~~~~~~~~~~~~~~~~~~~~~~~~~~~~~~~~~~~~~~~~~~~~~~~~~~~~~~~~~~~~~~~~~~~~~~~~~~~~~~~~~~~~~~~~~~~~~~~~~~~\n",
            "Original: set blue by n eight sp please\n",
            "Prediction: set blue by n eight splease\n",
            "~~~~~~~~~~~~~~~~~~~~~~~~~~~~~~~~~~~~~~~~~~~~~~~~~~~~~~~~~~~~~~~~~~~~~~~~~~~~~~~~~~~~~~~~~~~~~~~~~~~~\n",
            "450/450 [==============================] - 490s 1s/step - loss: 4.1756 - val_loss: 2.1768 - lr: 1.0000e-04\n"
          ]
        },
        {
          "output_type": "execute_result",
          "data": {
            "text/plain": [
              "<keras.src.callbacks.History at 0x7f43302304c0>"
            ]
          },
          "metadata": {},
          "execution_count": 49
        }
      ],
      "source": [
        "model.fit(train, validation_data=test, epochs=30, callbacks=[checkpoint_callback, schedule_callback, example_callback])"
      ]
    },
    {
      "cell_type": "markdown",
      "id": "fa8ee94b-89f7-4733-8a0c-a86f86ff590a",
      "metadata": {
        "tags": [],
        "id": "fa8ee94b-89f7-4733-8a0c-a86f86ff590a"
      },
      "source": [
        "# 5. Make a Prediction"
      ]
    },
    {
      "cell_type": "code",
      "execution_count": 52,
      "id": "247f664d-3c87-4e96-946e-930dad0e1c2c",
      "metadata": {
        "tags": [],
        "id": "247f664d-3c87-4e96-946e-930dad0e1c2c",
        "outputId": "3b82d40d-4902-4a5d-9223-c19ed4d1b6f1",
        "colab": {
          "base_uri": "https://localhost:8080/"
        }
      },
      "outputs": [
        {
          "output_type": "execute_result",
          "data": {
            "text/plain": [
              "<tensorflow.python.checkpoint.checkpoint.CheckpointLoadStatus at 0x7f441012a230>"
            ]
          },
          "metadata": {},
          "execution_count": 52
        }
      ],
      "source": [
        "model.load_weights('models/checkpoint')"
      ]
    },
    {
      "cell_type": "code",
      "execution_count": 53,
      "id": "7f8d689f-b7bb-443c-9b88-e40c1d800828",
      "metadata": {
        "tags": [],
        "id": "7f8d689f-b7bb-443c-9b88-e40c1d800828"
      },
      "outputs": [],
      "source": [
        "test_data = test.as_numpy_iterator()"
      ]
    },
    {
      "cell_type": "code",
      "execution_count": 54,
      "id": "38546dc2-bee9-4837-864b-8a884df40ad7",
      "metadata": {
        "tags": [],
        "id": "38546dc2-bee9-4837-864b-8a884df40ad7"
      },
      "outputs": [],
      "source": [
        "sample = test_data.next()"
      ]
    },
    {
      "cell_type": "code",
      "execution_count": 55,
      "id": "a43621f0-229d-4c0d-9554-9c3a3da9c61a",
      "metadata": {
        "tags": [],
        "id": "a43621f0-229d-4c0d-9554-9c3a3da9c61a",
        "outputId": "e36d8fa1-c8d8-4e30-c571-31aaeb6c7748",
        "colab": {
          "base_uri": "https://localhost:8080/"
        }
      },
      "outputs": [
        {
          "output_type": "stream",
          "name": "stdout",
          "text": [
            "1/1 [==============================] - 0s 83ms/step\n"
          ]
        }
      ],
      "source": [
        "yhat = model.predict(sample[0])"
      ]
    },
    {
      "cell_type": "code",
      "execution_count": 56,
      "id": "ea462999-f87e-4a7e-a057-5be7b6d8f7d5",
      "metadata": {
        "tags": [],
        "id": "ea462999-f87e-4a7e-a057-5be7b6d8f7d5",
        "outputId": "5b7b950c-2c10-4f46-e9a2-b27e4a2ad546",
        "colab": {
          "base_uri": "https://localhost:8080/"
        }
      },
      "outputs": [
        {
          "output_type": "stream",
          "name": "stdout",
          "text": [
            "~~~~~~~~~~~~~~~~~~~~~~~~~~~~~~~~~~~~~~~~~~~~~~~~~~~~~~~~~~~~~~~~~~~~~~~~~~~~~~~~~~~~~~~~~~~~~~~~~~~~ REAL TEXT\n"
          ]
        },
        {
          "output_type": "execute_result",
          "data": {
            "text/plain": [
              "[<tf.Tensor: shape=(), dtype=string, numpy=b'bin red by t three again'>,\n",
              " <tf.Tensor: shape=(), dtype=string, numpy=b'place red at c eight please'>]"
            ]
          },
          "metadata": {},
          "execution_count": 56
        }
      ],
      "source": [
        "print('~'*100, 'REAL TEXT')\n",
        "[tf.strings.reduce_join([num_to_char(word) for word in sentence]) for sentence in sample[1]]"
      ]
    },
    {
      "cell_type": "code",
      "execution_count": 57,
      "id": "82bd4c10-dd6e-411e-834b-2a3b43fd12c5",
      "metadata": {
        "tags": [],
        "id": "82bd4c10-dd6e-411e-834b-2a3b43fd12c5"
      },
      "outputs": [],
      "source": [
        "decoded = tf.keras.backend.ctc_decode(yhat, input_length=[75,75], greedy=True)[0][0].numpy()"
      ]
    },
    {
      "cell_type": "code",
      "execution_count": 58,
      "id": "5d68ac46-c90b-4eab-a709-f19aee569ff5",
      "metadata": {
        "tags": [],
        "id": "5d68ac46-c90b-4eab-a709-f19aee569ff5",
        "outputId": "70b7933f-241e-4be3-a634-1c38b73fec77",
        "colab": {
          "base_uri": "https://localhost:8080/"
        }
      },
      "outputs": [
        {
          "output_type": "stream",
          "name": "stdout",
          "text": [
            "~~~~~~~~~~~~~~~~~~~~~~~~~~~~~~~~~~~~~~~~~~~~~~~~~~~~~~~~~~~~~~~~~~~~~~~~~~~~~~~~~~~~~~~~~~~~~~~~~~~~ PREDICTIONS\n"
          ]
        },
        {
          "output_type": "execute_result",
          "data": {
            "text/plain": [
              "[<tf.Tensor: shape=(), dtype=string, numpy=b'bin red by t three again'>,\n",
              " <tf.Tensor: shape=(), dtype=string, numpy=b'place red at c eight please'>]"
            ]
          },
          "metadata": {},
          "execution_count": 58
        }
      ],
      "source": [
        "print('~'*100, 'PREDICTIONS')\n",
        "[tf.strings.reduce_join([num_to_char(word) for word in sentence]) for sentence in decoded]"
      ]
    },
    {
      "cell_type": "markdown",
      "id": "64622f98-e99b-4fed-a2cc-f0da82eb5431",
      "metadata": {
        "id": "64622f98-e99b-4fed-a2cc-f0da82eb5431"
      },
      "source": [
        "# Test on a Video"
      ]
    },
    {
      "cell_type": "code",
      "execution_count": 59,
      "id": "a8b0c4d0-2031-4331-b91d-d87b1ae6f6e2",
      "metadata": {
        "id": "a8b0c4d0-2031-4331-b91d-d87b1ae6f6e2"
      },
      "outputs": [],
      "source": [
        "sample = load_data(tf.convert_to_tensor('/content/data/s1/lgaz6n.mpg'))"
      ]
    },
    {
      "cell_type": "code",
      "execution_count": 60,
      "id": "0cca60e4-47a9-4683-8a75-48f4684f723d",
      "metadata": {
        "id": "0cca60e4-47a9-4683-8a75-48f4684f723d",
        "outputId": "2f329675-4e2e-441d-94e2-645f97b5bb99",
        "colab": {
          "base_uri": "https://localhost:8080/"
        }
      },
      "outputs": [
        {
          "output_type": "stream",
          "name": "stdout",
          "text": [
            "~~~~~~~~~~~~~~~~~~~~~~~~~~~~~~~~~~~~~~~~~~~~~~~~~~~~~~~~~~~~~~~~~~~~~~~~~~~~~~~~~~~~~~~~~~~~~~~~~~~~ REAL TEXT\n"
          ]
        },
        {
          "output_type": "execute_result",
          "data": {
            "text/plain": [
              "[<tf.Tensor: shape=(), dtype=string, numpy=b'lay green at z six now'>]"
            ]
          },
          "metadata": {},
          "execution_count": 60
        }
      ],
      "source": [
        "print('~'*100, 'REAL TEXT')\n",
        "[tf.strings.reduce_join([num_to_char(word) for word in sentence]) for sentence in [sample[1]]]"
      ]
    },
    {
      "cell_type": "code",
      "execution_count": 61,
      "id": "8cc5037c-1e32-435c-b0cc-01e1fb3b863c",
      "metadata": {
        "id": "8cc5037c-1e32-435c-b0cc-01e1fb3b863c",
        "outputId": "cd2becf4-a14a-426c-8b37-0c3929fc30bb",
        "colab": {
          "base_uri": "https://localhost:8080/"
        }
      },
      "outputs": [
        {
          "output_type": "stream",
          "name": "stdout",
          "text": [
            "1/1 [==============================] - 0s 450ms/step\n"
          ]
        }
      ],
      "source": [
        "yhat = model.predict(tf.expand_dims(sample[0], axis=0))"
      ]
    },
    {
      "cell_type": "code",
      "execution_count": 62,
      "id": "22c4f77d-715d-409f-bc5e-3ebe48704e8f",
      "metadata": {
        "id": "22c4f77d-715d-409f-bc5e-3ebe48704e8f"
      },
      "outputs": [],
      "source": [
        "decoded = tf.keras.backend.ctc_decode(yhat, input_length=[75], greedy=True)[0][0].numpy()"
      ]
    },
    {
      "cell_type": "code",
      "execution_count": 63,
      "id": "e4d12ecc-b634-499e-a4bc-db9f010835fb",
      "metadata": {
        "id": "e4d12ecc-b634-499e-a4bc-db9f010835fb",
        "outputId": "d67174f3-87b8-49d4-b966-9047ea2d0333",
        "colab": {
          "base_uri": "https://localhost:8080/"
        }
      },
      "outputs": [
        {
          "output_type": "stream",
          "name": "stdout",
          "text": [
            "~~~~~~~~~~~~~~~~~~~~~~~~~~~~~~~~~~~~~~~~~~~~~~~~~~~~~~~~~~~~~~~~~~~~~~~~~~~~~~~~~~~~~~~~~~~~~~~~~~~~ PREDICTIONS\n"
          ]
        },
        {
          "output_type": "execute_result",
          "data": {
            "text/plain": [
              "[<tf.Tensor: shape=(), dtype=string, numpy=b'lay green at z six now'>]"
            ]
          },
          "metadata": {},
          "execution_count": 63
        }
      ],
      "source": [
        "print('~'*100, 'PREDICTIONS')\n",
        "[tf.strings.reduce_join([num_to_char(word) for word in sentence]) for sentence in decoded]"
      ]
    }
  ],
  "metadata": {
    "kernelspec": {
      "display_name": "Python 3",
      "name": "python3"
    },
    "language_info": {
      "codemirror_mode": {
        "name": "ipython",
        "version": 3
      },
      "file_extension": ".py",
      "mimetype": "text/x-python",
      "name": "python",
      "nbconvert_exporter": "python",
      "pygments_lexer": "ipython3",
      "version": "3.9.12"
    },
    "colab": {
      "provenance": [],
      "machine_shape": "hm",
      "gpuType": "V100"
    },
    "accelerator": "GPU"
  },
  "nbformat": 4,
  "nbformat_minor": 5
}